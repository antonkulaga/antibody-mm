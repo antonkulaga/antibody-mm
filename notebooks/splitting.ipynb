{
 "cells": [
  {
   "cell_type": "markdown",
   "id": "deb272d2-3817-43f4-9c5b-77f354b11f5e",
   "metadata": {},
   "source": [
    "## Antibody split"
   ]
  },
  {
   "cell_type": "code",
   "execution_count": 1,
   "id": "b5b742bc-288b-44cd-abe1-4ccd9b236092",
   "metadata": {},
   "outputs": [],
   "source": [
    "import sys\n",
    "from sys import stdout\n",
    "import inspect\n",
    "from functional import seq\n",
    "from pathlib import Path\n",
    "from pycomfort.files import *\n",
    "import biopandas\n",
    "from biopandas.pdb import PandasPdb"
   ]
  },
  {
   "cell_type": "code",
   "execution_count": 2,
   "id": "d666a9e5-0bb4-4d43-bf3a-ae5eaebb36de",
   "metadata": {},
   "outputs": [
    {
     "name": "stdout",
     "output_type": "stream",
     "text": [
      "extending pathes with local mm\n",
      "['/data/sources/antibody-mm/mm', '/data/sources/antibody-mm/notebooks', '/home/antonkulaga/micromamba/envs/antibody-mm/lib/python39.zip', '/home/antonkulaga/micromamba/envs/antibody-mm/lib/python3.9', '/home/antonkulaga/micromamba/envs/antibody-mm/lib/python3.9/lib-dynload', '', '/home/antonkulaga/micromamba/envs/antibody-mm/lib/python3.9/site-packages', '/home/antonkulaga/micromamba/envs/antibody-mm/lib/python3.9/site-packages/IPython/extensions', '/home/antonkulaga/.ipython']\n"
     ]
    }
   ],
   "source": [
    "debug_local = True#False\n",
    "local = Path(\"..\").resolve()\n",
    "code = local / \"mm\"\n",
    "data  = local / \"data\"\n",
    "input = data / \"input\"\n",
    "output = Path(\"/media/antonkulaga/Elements/molecular_dynamics\")\n",
    "\n",
    "if debug_local and code.exists():\n",
    "    sys.path.insert(0, code.as_posix())\n",
    "    print(\"extending pathes with local mm\")\n",
    "    print(sys.path)\n",
    "    %load_ext autoreload\n",
    "    %autoreload 2"
   ]
  },
  {
   "cell_type": "code",
   "execution_count": 8,
   "id": "9cc702c1-edb7-41c2-93a4-56eadd23abbb",
   "metadata": {},
   "outputs": [],
   "source": [
    "best_docking_results = Path(\"/data/samples/docking/RA/results/best\")"
   ]
  },
  {
   "cell_type": "markdown",
   "id": "5663487b-9a20-4a88-8f0f-75926d8b4f13",
   "metadata": {},
   "source": [
    "# best_p2_auto = best_docking_results / \"S5205Nr1-P2_IgG1Fc_H_top_30_heavy_chains\"\n",
    "tprint(best_p2_auto)"
   ]
  },
  {
   "cell_type": "code",
   "execution_count": 9,
   "id": "73930f67-98b2-4dd5-abac-b0460cff6bd2",
   "metadata": {},
   "outputs": [],
   "source": [
    "from splitter import split_and_write"
   ]
  },
  {
   "cell_type": "code",
   "execution_count": 5,
   "id": "74392ee7-d28f-435e-b16b-e137f5181ea1",
   "metadata": {},
   "outputs": [],
   "source": [
    "from splitter import *"
   ]
  },
  {
   "cell_type": "code",
   "execution_count": 13,
   "id": "61730888-cbe9-40a1-97b2-1264508f2a33",
   "metadata": {},
   "outputs": [],
   "source": [
    "p = best_docking_results / \"S5205Nr1-P2_IgG1Fc_H_top_30_heavy_chains\" / \"FIXED_1_35744_H_1_energy_-254.21349.pdb\""
   ]
  },
  {
   "cell_type": "code",
   "execution_count": 17,
   "id": "a397d8e0-7083-4868-a64b-416c7db7edd8",
   "metadata": {},
   "outputs": [],
   "source": [
    "# load antibody key dataframes\n",
    "antibody = read_pdb(p) # ugly, TODO: fix\n",
    "antibody_atoms = antibody.df[\"ATOM\"][antibody.df[\"ATOM\"][\"chain_id\"] ==\"B\"]\n",
    "antibody_ids = antibody_atoms[\"atom_number\"].values\n",
    "antibody_others = antibody.df[\"OTHERS\"]\n",
    "antibody_ids_concat = \"|\".join(antibody_ids.astype(str))\n",
    "\n",
    "# load key antigen dataframes\n",
    "antigen = read_pdb(p) # ugly, TODO: fix\n",
    "antigen_atoms = antigen.df[\"ATOM\"][antibody.df[\"ATOM\"][\"chain_id\"] ==\"A\"]\n",
    "antigen_ids = antigen_atoms[\"atom_number\"].values\n",
    "antigen_others = antigen.df[\"OTHERS\"]\n",
    "antigen_ids_concat = \"|\".join(antigen_ids.astype(str))"
   ]
  },
  {
   "cell_type": "code",
   "execution_count": 19,
   "id": "b8a0a20e-65b1-42d4-8cf2-4500a76aaa5b",
   "metadata": {},
   "outputs": [
    {
     "data": {
      "text/html": [
       "<div>\n",
       "<style scoped>\n",
       "    .dataframe tbody tr th:only-of-type {\n",
       "        vertical-align: middle;\n",
       "    }\n",
       "\n",
       "    .dataframe tbody tr th {\n",
       "        vertical-align: top;\n",
       "    }\n",
       "\n",
       "    .dataframe thead th {\n",
       "        text-align: right;\n",
       "    }\n",
       "</style>\n",
       "<table border=\"1\" class=\"dataframe\">\n",
       "  <thead>\n",
       "    <tr style=\"text-align: right;\">\n",
       "      <th></th>\n",
       "      <th>record_name</th>\n",
       "      <th>entry</th>\n",
       "      <th>line_idx</th>\n",
       "    </tr>\n",
       "  </thead>\n",
       "  <tbody>\n",
       "    <tr>\n",
       "      <th>0</th>\n",
       "      <td>REMARK</td>\n",
       "      <td>1 PDBFIXER FROM: 1_35744_H_1_energy_-254.21...</td>\n",
       "      <td>0</td>\n",
       "    </tr>\n",
       "    <tr>\n",
       "      <th>1</th>\n",
       "      <td>REMARK</td>\n",
       "      <td>1 CREATED WITH OPENMM 7.7, 2022-04-07</td>\n",
       "      <td>1</td>\n",
       "    </tr>\n",
       "    <tr>\n",
       "      <th>3</th>\n",
       "      <td>TER</td>\n",
       "      <td>4881      LEU B 443</td>\n",
       "      <td>4882</td>\n",
       "    </tr>\n",
       "    <tr>\n",
       "      <th>4</th>\n",
       "      <td>CONECT</td>\n",
       "      <td>1992 2969</td>\n",
       "      <td>4883</td>\n",
       "    </tr>\n",
       "    <tr>\n",
       "      <th>5</th>\n",
       "      <td>CONECT</td>\n",
       "      <td>2969 1992</td>\n",
       "      <td>4884</td>\n",
       "    </tr>\n",
       "    <tr>\n",
       "      <th>6</th>\n",
       "      <td>CONECT</td>\n",
       "      <td>3688 4589</td>\n",
       "      <td>4885</td>\n",
       "    </tr>\n",
       "    <tr>\n",
       "      <th>7</th>\n",
       "      <td>CONECT</td>\n",
       "      <td>4589 3688</td>\n",
       "      <td>4886</td>\n",
       "    </tr>\n",
       "    <tr>\n",
       "      <th>8</th>\n",
       "      <td>END</td>\n",
       "      <td></td>\n",
       "      <td>4887</td>\n",
       "    </tr>\n",
       "  </tbody>\n",
       "</table>\n",
       "</div>"
      ],
      "text/plain": [
       "  record_name                                              entry  line_idx\n",
       "0      REMARK     1 PDBFIXER FROM: 1_35744_H_1_energy_-254.21...         0\n",
       "1      REMARK              1 CREATED WITH OPENMM 7.7, 2022-04-07         1\n",
       "3         TER                                4881      LEU B 443      4882\n",
       "4      CONECT                                          1992 2969      4883\n",
       "5      CONECT                                          2969 1992      4884\n",
       "6      CONECT                                          3688 4589      4885\n",
       "7      CONECT                                          4589 3688      4886\n",
       "8         END                                                         4887"
      ]
     },
     "execution_count": 19,
     "metadata": {},
     "output_type": "execute_result"
    }
   ],
   "source": [
    "antibody_others[~((antibody_others[\"record_name\"] == \"TER\") & (antibody_others[\"entry\"].str.contains(\"A\")))]"
   ]
  },
  {
   "cell_type": "code",
   "execution_count": 22,
   "id": "78806c57-a598-4428-abf6-0c888b95681c",
   "metadata": {},
   "outputs": [],
   "source": [
    "#fixing issues in antibody\n",
    "antibody_others_good_ter = antibody_others[~((antibody_others[\"record_name\"] == \"TER\") & (antibody_others[\"entry\"].str.contains(\"A\")))]\n",
    "antibody_others_updated = antibody_others_good_ter[~((antibody_others_good_ter[\"record_name\"] == \"CONECT\") & (antibody_others_good_ter[\"entry\"].str.contains(antigen_ids_concat)))]\n",
    "\n",
    "\n",
    "#fixing issues in antigen\n",
    "antigen_others_good_ter = antigen_others[~((antigen_others[\"record_name\"] == \"TER\") & (antigen_others[\"entry\"].str.contains(\"B\")))]\n",
    "antigen_others_updated = antigen_others_good_ter[~((antigen_others_good_ter[\"record_name\"] == \"CONECT\") & (antigen_others_good_ter[\"entry\"].str.contains(antibody_ids_concat)))]\n"
   ]
  },
  {
   "cell_type": "code",
   "execution_count": 23,
   "id": "9dd13b99-c594-4891-89a9-ade07c99e42f",
   "metadata": {},
   "outputs": [
    {
     "data": {
      "text/html": [
       "<div>\n",
       "<style scoped>\n",
       "    .dataframe tbody tr th:only-of-type {\n",
       "        vertical-align: middle;\n",
       "    }\n",
       "\n",
       "    .dataframe tbody tr th {\n",
       "        vertical-align: top;\n",
       "    }\n",
       "\n",
       "    .dataframe thead th {\n",
       "        text-align: right;\n",
       "    }\n",
       "</style>\n",
       "<table border=\"1\" class=\"dataframe\">\n",
       "  <thead>\n",
       "    <tr style=\"text-align: right;\">\n",
       "      <th></th>\n",
       "      <th>record_name</th>\n",
       "      <th>entry</th>\n",
       "      <th>line_idx</th>\n",
       "    </tr>\n",
       "  </thead>\n",
       "  <tbody>\n",
       "    <tr>\n",
       "      <th>0</th>\n",
       "      <td>REMARK</td>\n",
       "      <td>1 PDBFIXER FROM: 1_35744_H_1_energy_-254.21...</td>\n",
       "      <td>0</td>\n",
       "    </tr>\n",
       "    <tr>\n",
       "      <th>1</th>\n",
       "      <td>REMARK</td>\n",
       "      <td>1 CREATED WITH OPENMM 7.7, 2022-04-07</td>\n",
       "      <td>1</td>\n",
       "    </tr>\n",
       "    <tr>\n",
       "      <th>2</th>\n",
       "      <td>TER</td>\n",
       "      <td>1605      SER A 105</td>\n",
       "      <td>1606</td>\n",
       "    </tr>\n",
       "    <tr>\n",
       "      <th>8</th>\n",
       "      <td>END</td>\n",
       "      <td></td>\n",
       "      <td>4887</td>\n",
       "    </tr>\n",
       "  </tbody>\n",
       "</table>\n",
       "</div>"
      ],
      "text/plain": [
       "  record_name                                              entry  line_idx\n",
       "0      REMARK     1 PDBFIXER FROM: 1_35744_H_1_energy_-254.21...         0\n",
       "1      REMARK              1 CREATED WITH OPENMM 7.7, 2022-04-07         1\n",
       "2         TER                                1605      SER A 105      1606\n",
       "8         END                                                         4887"
      ]
     },
     "execution_count": 23,
     "metadata": {},
     "output_type": "execute_result"
    }
   ],
   "source": [
    "antigen_others_updated"
   ]
  },
  {
   "cell_type": "code",
   "execution_count": 25,
   "id": "d3c1ee32-7044-4142-a3f7-514626d602e3",
   "metadata": {},
   "outputs": [
    {
     "name": "stdout",
     "output_type": "stream",
     "text": [
      "splitting the model /data/samples/docking/RA/results/best/S5205Nr1-P2_IgG1Fc_H_top_30_heavy_chains/FIXED_2_27457_H_244_energy_-284.44533.pdb into antigen\n",
      "writing antibody to /data/samples/docking/RA/results/best/S5205Nr1-P2_IgG1Fc_H_top_30_heavy_chains/FIXED_2_27457_H_244_energy_-284.44533/FIXED_2_27457_H_244_energy_-284.44533_antibody.pdb\n",
      "writing antigen to /data/samples/docking/RA/results/best/S5205Nr1-P2_IgG1Fc_H_top_30_heavy_chains/FIXED_2_27457_H_244_energy_-284.44533/FIXED_2_27457_H_244_energy_-284.44533_antigen.pdb\n",
      "splitting the model /data/samples/docking/RA/results/best/S5205Nr1-P2_IgG1Fc_H_top_30_heavy_chains/3_17806_H_5_energy_-238.0523.pdb into antigen\n",
      "writing antibody to /data/samples/docking/RA/results/best/S5205Nr1-P2_IgG1Fc_H_top_30_heavy_chains/3_17806_H_5_energy_-238.0523/3_17806_H_5_energy_-238.0523_antibody.pdb\n",
      "writing antigen to /data/samples/docking/RA/results/best/S5205Nr1-P2_IgG1Fc_H_top_30_heavy_chains/3_17806_H_5_energy_-238.0523/3_17806_H_5_energy_-238.0523_antigen.pdb\n",
      "splitting the model /data/samples/docking/RA/results/best/S5205Nr1-P2_IgG1Fc_H_top_30_heavy_chains/FIXED_3_17806_H_24_energy_-221.3707.pdb into antigen\n",
      "writing antibody to /data/samples/docking/RA/results/best/S5205Nr1-P2_IgG1Fc_H_top_30_heavy_chains/FIXED_3_17806_H_24_energy_-221.3707/FIXED_3_17806_H_24_energy_-221.3707_antibody.pdb\n",
      "writing antigen to /data/samples/docking/RA/results/best/S5205Nr1-P2_IgG1Fc_H_top_30_heavy_chains/FIXED_3_17806_H_24_energy_-221.3707/FIXED_3_17806_H_24_energy_-221.3707_antigen.pdb\n",
      "splitting the model /data/samples/docking/RA/results/best/S5205Nr1-P2_IgG1Fc_H_top_30_heavy_chains/3_17806_H_35_energy_-224.0373.pdb into antigen\n",
      "writing antibody to /data/samples/docking/RA/results/best/S5205Nr1-P2_IgG1Fc_H_top_30_heavy_chains/3_17806_H_35_energy_-224.0373/3_17806_H_35_energy_-224.0373_antibody.pdb\n",
      "writing antigen to /data/samples/docking/RA/results/best/S5205Nr1-P2_IgG1Fc_H_top_30_heavy_chains/3_17806_H_35_energy_-224.0373/3_17806_H_35_energy_-224.0373_antigen.pdb\n",
      "splitting the model /data/samples/docking/RA/results/best/S5205Nr1-P2_IgG1Fc_H_top_30_heavy_chains/FIXED_2_27457_H_253_energy_-246.08788.pdb into antigen\n",
      "writing antibody to /data/samples/docking/RA/results/best/S5205Nr1-P2_IgG1Fc_H_top_30_heavy_chains/FIXED_2_27457_H_253_energy_-246.08788/FIXED_2_27457_H_253_energy_-246.08788_antibody.pdb\n",
      "writing antigen to /data/samples/docking/RA/results/best/S5205Nr1-P2_IgG1Fc_H_top_30_heavy_chains/FIXED_2_27457_H_253_energy_-246.08788/FIXED_2_27457_H_253_energy_-246.08788_antigen.pdb\n",
      "splitting the model /data/samples/docking/RA/results/best/S5205Nr1-P2_IgG1Fc_H_top_30_heavy_chains/FIXED_1_35744_H_64_energy_-263.5477.pdb into antigen\n",
      "writing antibody to /data/samples/docking/RA/results/best/S5205Nr1-P2_IgG1Fc_H_top_30_heavy_chains/FIXED_1_35744_H_64_energy_-263.5477/FIXED_1_35744_H_64_energy_-263.5477_antibody.pdb\n",
      "writing antigen to /data/samples/docking/RA/results/best/S5205Nr1-P2_IgG1Fc_H_top_30_heavy_chains/FIXED_1_35744_H_64_energy_-263.5477/FIXED_1_35744_H_64_energy_-263.5477_antigen.pdb\n",
      "splitting the model /data/samples/docking/RA/results/best/S5205Nr1-P2_IgG1Fc_H_top_30_heavy_chains/FIXED_1_35744_H_1_energy_-254.21349.pdb into antigen\n",
      "writing antibody to /data/samples/docking/RA/results/best/S5205Nr1-P2_IgG1Fc_H_top_30_heavy_chains/FIXED_1_35744_H_1_energy_-254.21349/FIXED_1_35744_H_1_energy_-254.21349_antibody.pdb\n",
      "writing antigen to /data/samples/docking/RA/results/best/S5205Nr1-P2_IgG1Fc_H_top_30_heavy_chains/FIXED_1_35744_H_1_energy_-254.21349/FIXED_1_35744_H_1_energy_-254.21349_antigen.pdb\n",
      "splitting the model /data/samples/docking/RA/results/best/S5205Nr1-P2_IgG1Fc_H_top_30_heavy_chains/1_35744_H_64_energy_-263.5477.pdb into antigen\n",
      "writing antibody to /data/samples/docking/RA/results/best/S5205Nr1-P2_IgG1Fc_H_top_30_heavy_chains/1_35744_H_64_energy_-263.5477/1_35744_H_64_energy_-263.5477_antibody.pdb\n",
      "writing antigen to /data/samples/docking/RA/results/best/S5205Nr1-P2_IgG1Fc_H_top_30_heavy_chains/1_35744_H_64_energy_-263.5477/1_35744_H_64_energy_-263.5477_antigen.pdb\n",
      "splitting the model /data/samples/docking/RA/results/best/S5205Nr1-P2_IgG1Fc_H_top_30_heavy_chains/FIXED_2_27457_H_257_energy_-248.7721.pdb into antigen\n",
      "writing antibody to /data/samples/docking/RA/results/best/S5205Nr1-P2_IgG1Fc_H_top_30_heavy_chains/FIXED_2_27457_H_257_energy_-248.7721/FIXED_2_27457_H_257_energy_-248.7721_antibody.pdb\n",
      "writing antigen to /data/samples/docking/RA/results/best/S5205Nr1-P2_IgG1Fc_H_top_30_heavy_chains/FIXED_2_27457_H_257_energy_-248.7721/FIXED_2_27457_H_257_energy_-248.7721_antigen.pdb\n",
      "splitting the model /data/samples/docking/RA/results/best/S5205Nr1-P2_IgG1Fc_H_top_30_heavy_chains/1_35744_H_1_energy_-254.21349.pdb into antigen\n",
      "writing antibody to /data/samples/docking/RA/results/best/S5205Nr1-P2_IgG1Fc_H_top_30_heavy_chains/1_35744_H_1_energy_-254.21349/1_35744_H_1_energy_-254.21349_antibody.pdb\n",
      "writing antigen to /data/samples/docking/RA/results/best/S5205Nr1-P2_IgG1Fc_H_top_30_heavy_chains/1_35744_H_1_energy_-254.21349/1_35744_H_1_energy_-254.21349_antigen.pdb\n",
      "splitting the model /data/samples/docking/RA/results/best/S5205Nr1-P2_IgG1Fc_H_top_30_heavy_chains/2_27457_H_257_energy_-248.7721.pdb into antigen\n",
      "writing antibody to /data/samples/docking/RA/results/best/S5205Nr1-P2_IgG1Fc_H_top_30_heavy_chains/2_27457_H_257_energy_-248.7721/2_27457_H_257_energy_-248.7721_antibody.pdb\n",
      "writing antigen to /data/samples/docking/RA/results/best/S5205Nr1-P2_IgG1Fc_H_top_30_heavy_chains/2_27457_H_257_energy_-248.7721/2_27457_H_257_energy_-248.7721_antigen.pdb\n",
      "splitting the model /data/samples/docking/RA/results/best/S5205Nr1-P2_IgG1Fc_H_top_30_heavy_chains/FIXED_1_35744_H_112_energy_-265.2682.pdb into antigen\n",
      "writing antibody to /data/samples/docking/RA/results/best/S5205Nr1-P2_IgG1Fc_H_top_30_heavy_chains/FIXED_1_35744_H_112_energy_-265.2682/FIXED_1_35744_H_112_energy_-265.2682_antibody.pdb\n",
      "writing antigen to /data/samples/docking/RA/results/best/S5205Nr1-P2_IgG1Fc_H_top_30_heavy_chains/FIXED_1_35744_H_112_energy_-265.2682/FIXED_1_35744_H_112_energy_-265.2682_antigen.pdb\n",
      "splitting the model /data/samples/docking/RA/results/best/S5205Nr1-P2_IgG1Fc_H_top_30_heavy_chains/FIXED_3_17806_H_5_energy_-238.0523.pdb into antigen\n",
      "writing antibody to /data/samples/docking/RA/results/best/S5205Nr1-P2_IgG1Fc_H_top_30_heavy_chains/FIXED_3_17806_H_5_energy_-238.0523/FIXED_3_17806_H_5_energy_-238.0523_antibody.pdb\n",
      "writing antigen to /data/samples/docking/RA/results/best/S5205Nr1-P2_IgG1Fc_H_top_30_heavy_chains/FIXED_3_17806_H_5_energy_-238.0523/FIXED_3_17806_H_5_energy_-238.0523_antigen.pdb\n",
      "splitting the model /data/samples/docking/RA/results/best/S5205Nr1-P2_IgG1Fc_H_top_30_heavy_chains/1_35744_H_112_energy_-265.2682.pdb into antigen\n",
      "writing antibody to /data/samples/docking/RA/results/best/S5205Nr1-P2_IgG1Fc_H_top_30_heavy_chains/1_35744_H_112_energy_-265.2682/1_35744_H_112_energy_-265.2682_antibody.pdb\n",
      "writing antigen to /data/samples/docking/RA/results/best/S5205Nr1-P2_IgG1Fc_H_top_30_heavy_chains/1_35744_H_112_energy_-265.2682/1_35744_H_112_energy_-265.2682_antigen.pdb\n",
      "splitting the model /data/samples/docking/RA/results/best/S5205Nr1-P2_IgG1Fc_H_top_30_heavy_chains/2_27457_H_253_energy_-246.08788.pdb into antigen\n",
      "writing antibody to /data/samples/docking/RA/results/best/S5205Nr1-P2_IgG1Fc_H_top_30_heavy_chains/2_27457_H_253_energy_-246.08788/2_27457_H_253_energy_-246.08788_antibody.pdb\n",
      "writing antigen to /data/samples/docking/RA/results/best/S5205Nr1-P2_IgG1Fc_H_top_30_heavy_chains/2_27457_H_253_energy_-246.08788/2_27457_H_253_energy_-246.08788_antigen.pdb\n",
      "splitting the model /data/samples/docking/RA/results/best/S5205Nr1-P2_IgG1Fc_H_top_30_heavy_chains/FIXED_3_17806_H_35_energy_-224.0373.pdb into antigen\n",
      "writing antibody to /data/samples/docking/RA/results/best/S5205Nr1-P2_IgG1Fc_H_top_30_heavy_chains/FIXED_3_17806_H_35_energy_-224.0373/FIXED_3_17806_H_35_energy_-224.0373_antibody.pdb\n",
      "writing antigen to /data/samples/docking/RA/results/best/S5205Nr1-P2_IgG1Fc_H_top_30_heavy_chains/FIXED_3_17806_H_35_energy_-224.0373/FIXED_3_17806_H_35_energy_-224.0373_antigen.pdb\n",
      "splitting the model /data/samples/docking/RA/results/best/S5205Nr1-P2_IgG1Fc_H_top_30_heavy_chains/2_27457_H_244_energy_-284.44533.pdb into antigen\n",
      "writing antibody to /data/samples/docking/RA/results/best/S5205Nr1-P2_IgG1Fc_H_top_30_heavy_chains/2_27457_H_244_energy_-284.44533/2_27457_H_244_energy_-284.44533_antibody.pdb\n",
      "writing antigen to /data/samples/docking/RA/results/best/S5205Nr1-P2_IgG1Fc_H_top_30_heavy_chains/2_27457_H_244_energy_-284.44533/2_27457_H_244_energy_-284.44533_antigen.pdb\n",
      "splitting the model /data/samples/docking/RA/results/best/S5205Nr1-P2_IgG1Fc_H_top_30_heavy_chains/3_17806_H_24_energy_-221.3707.pdb into antigen\n",
      "writing antibody to /data/samples/docking/RA/results/best/S5205Nr1-P2_IgG1Fc_H_top_30_heavy_chains/3_17806_H_24_energy_-221.3707/3_17806_H_24_energy_-221.3707_antibody.pdb\n",
      "writing antigen to /data/samples/docking/RA/results/best/S5205Nr1-P2_IgG1Fc_H_top_30_heavy_chains/3_17806_H_24_energy_-221.3707/3_17806_H_24_energy_-221.3707_antigen.pdb\n"
     ]
    }
   ],
   "source": [
    "import shutil\n",
    "\n",
    "for c in files(best_p2_auto):\n",
    "    d = c.parent / c.stem\n",
    "    #if d.exists():\n",
    "    #    shutil.rmtree(d)\n",
    "    if not d.exists():\n",
    "        print(f\"splitting the model {c} into antigen\")\n",
    "        split_and_write(c)"
   ]
  },
  {
   "cell_type": "code",
   "execution_count": null,
   "id": "0a2db4fb-71ae-471e-8aac-ba6b626b555c",
   "metadata": {},
   "outputs": [],
   "source": []
  }
 ],
 "metadata": {
  "kernelspec": {
   "display_name": "Python 3 (ipykernel)",
   "language": "python",
   "name": "python3"
  },
  "language_info": {
   "codemirror_mode": {
    "name": "ipython",
    "version": 3
   },
   "file_extension": ".py",
   "mimetype": "text/x-python",
   "name": "python",
   "nbconvert_exporter": "python",
   "pygments_lexer": "ipython3",
   "version": "3.9.7"
  }
 },
 "nbformat": 4,
 "nbformat_minor": 5
}
