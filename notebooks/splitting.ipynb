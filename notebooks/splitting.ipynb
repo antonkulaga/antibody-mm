{
 "cells": [
  {
   "cell_type": "markdown",
   "id": "deb272d2-3817-43f4-9c5b-77f354b11f5e",
   "metadata": {},
   "source": [
    "## Antibody split"
   ]
  },
  {
   "cell_type": "code",
   "execution_count": 1,
   "id": "b5b742bc-288b-44cd-abe1-4ccd9b236092",
   "metadata": {},
   "outputs": [],
   "source": [
    "import sys\n",
    "from sys import stdout\n",
    "import inspect\n",
    "from functional import seq\n",
    "from pathlib import Path\n",
    "from pycomfort.files import *\n",
    "import biopandas\n",
    "from biopandas.pdb import PandasPdb"
   ]
  },
  {
   "cell_type": "code",
   "execution_count": 2,
   "id": "d666a9e5-0bb4-4d43-bf3a-ae5eaebb36de",
   "metadata": {},
   "outputs": [
    {
     "name": "stdout",
     "output_type": "stream",
     "text": [
      "extending pathes with local mm\n",
      "['/data/sources/antibody-mm/mm', '/data/sources/antibody-mm/notebooks', '/home/antonkulaga/micromamba/envs/antibody-mm/lib/python39.zip', '/home/antonkulaga/micromamba/envs/antibody-mm/lib/python3.9', '/home/antonkulaga/micromamba/envs/antibody-mm/lib/python3.9/lib-dynload', '', '/home/antonkulaga/micromamba/envs/antibody-mm/lib/python3.9/site-packages', '/home/antonkulaga/micromamba/envs/antibody-mm/lib/python3.9/site-packages/IPython/extensions', '/home/antonkulaga/.ipython']\n"
     ]
    }
   ],
   "source": [
    "debug_local = True#False\n",
    "local = Path(\"..\").resolve()\n",
    "code = local / \"mm\"\n",
    "data  = local / \"data\"\n",
    "input = data / \"input\"\n",
    "output = Path(\"/media/antonkulaga/Elements/molecular_dynamics\")\n",
    "\n",
    "if debug_local and code.exists():\n",
    "    sys.path.insert(0, code.as_posix())\n",
    "    print(\"extending pathes with local mm\")\n",
    "    print(sys.path)\n",
    "    %load_ext autoreload\n",
    "    %autoreload 2"
   ]
  },
  {
   "cell_type": "code",
   "execution_count": 3,
   "id": "9cc702c1-edb7-41c2-93a4-56eadd23abbb",
   "metadata": {},
   "outputs": [],
   "source": [
    "best_docking_results = Path(\"/data/samples/docking/RA/results/best\")"
   ]
  },
  {
   "cell_type": "markdown",
   "id": "5663487b-9a20-4a88-8f0f-75926d8b4f13",
   "metadata": {},
   "source": [
    "# best_p2_auto = best_docking_results / \"S5205Nr1-P2_IgG1Fc_H_top_30_heavy_chains\"\n",
    "tprint(best_p2_auto)"
   ]
  },
  {
   "cell_type": "code",
   "execution_count": 4,
   "id": "73930f67-98b2-4dd5-abac-b0460cff6bd2",
   "metadata": {},
   "outputs": [],
   "source": [
    "from splitter import split_and_write, split"
   ]
  },
  {
   "cell_type": "code",
   "execution_count": 5,
   "id": "74392ee7-d28f-435e-b16b-e137f5181ea1",
   "metadata": {},
   "outputs": [],
   "source": [
    "best_p2_auto = best_docking_results / \"S5205Nr1-P2_IgG1Fc_H_top_30_heavy_chains\""
   ]
  },
  {
   "cell_type": "code",
   "execution_count": 8,
   "id": "03178cf0-5dcb-4eeb-8ebf-84c47e41fdd9",
   "metadata": {},
   "outputs": [],
   "source": [
    "p = best_p2_auto /  \"FIXED_1_35744_H_1_energy_-254.21349.pdb\"\n"
   ]
  },
  {
   "cell_type": "code",
   "execution_count": 9,
   "id": "db79f066-258f-4dd2-bcde-b3faa2df3330",
   "metadata": {},
   "outputs": [],
   "source": [
    "antibody, antigen, both = split(p)"
   ]
  },
  {
   "cell_type": "code",
   "execution_count": 10,
   "id": "aa8cca3c-e763-4e06-861d-ffd356f37294",
   "metadata": {},
   "outputs": [
    {
     "data": {
      "text/plain": [
       "dict_keys(['ATOM', 'HETATM', 'ANISOU', 'OTHERS'])"
      ]
     },
     "execution_count": 10,
     "metadata": {},
     "output_type": "execute_result"
    }
   ],
   "source": [
    "import pandas as pd\n",
    "pd.set_option('display.max_rows', 10000)\n",
    "both.df.keys()"
   ]
  },
  {
   "cell_type": "code",
   "execution_count": 16,
   "id": "d3c1ee32-7044-4142-a3f7-514626d602e3",
   "metadata": {},
   "outputs": [
    {
     "name": "stdout",
     "output_type": "stream",
     "text": [
      "splitting the model /data/samples/docking/RA/results/best/S5205Nr1-P2_IgG1Fc_H_top_30_heavy_chains/FIXED_2_27457_H_244_energy_-284.44533.pdb into antigen\n",
      "writing antibody to /data/samples/docking/RA/results/best/S5205Nr1-P2_IgG1Fc_H_top_30_heavy_chains/FIXED_2_27457_H_244_energy_-284.44533/FIXED_2_27457_H_244_energy_-284.44533_antibody.pdb\n",
      "writing antigen to /data/samples/docking/RA/results/best/S5205Nr1-P2_IgG1Fc_H_top_30_heavy_chains/FIXED_2_27457_H_244_energy_-284.44533/FIXED_2_27457_H_244_energy_-284.44533_antigen.pdb\n",
      "writing antibody_antigen_complex to /data/samples/docking/RA/results/best/S5205Nr1-P2_IgG1Fc_H_top_30_heavy_chains/FIXED_2_27457_H_244_energy_-284.44533/FIXED_2_27457_H_244_energy_-284.44533_antigen.pdb\n",
      "splitting the model /data/samples/docking/RA/results/best/S5205Nr1-P2_IgG1Fc_H_top_30_heavy_chains/FIXED_3_17806_H_24_energy_-221.3707.pdb into antigen\n",
      "writing antibody to /data/samples/docking/RA/results/best/S5205Nr1-P2_IgG1Fc_H_top_30_heavy_chains/FIXED_3_17806_H_24_energy_-221.3707/FIXED_3_17806_H_24_energy_-221.3707_antibody.pdb\n",
      "writing antigen to /data/samples/docking/RA/results/best/S5205Nr1-P2_IgG1Fc_H_top_30_heavy_chains/FIXED_3_17806_H_24_energy_-221.3707/FIXED_3_17806_H_24_energy_-221.3707_antigen.pdb\n",
      "writing antibody_antigen_complex to /data/samples/docking/RA/results/best/S5205Nr1-P2_IgG1Fc_H_top_30_heavy_chains/FIXED_3_17806_H_24_energy_-221.3707/FIXED_3_17806_H_24_energy_-221.3707_antigen.pdb\n",
      "splitting the model /data/samples/docking/RA/results/best/S5205Nr1-P2_IgG1Fc_H_top_30_heavy_chains/FIXED_2_27457_H_253_energy_-246.08788.pdb into antigen\n",
      "writing antibody to /data/samples/docking/RA/results/best/S5205Nr1-P2_IgG1Fc_H_top_30_heavy_chains/FIXED_2_27457_H_253_energy_-246.08788/FIXED_2_27457_H_253_energy_-246.08788_antibody.pdb\n",
      "writing antigen to /data/samples/docking/RA/results/best/S5205Nr1-P2_IgG1Fc_H_top_30_heavy_chains/FIXED_2_27457_H_253_energy_-246.08788/FIXED_2_27457_H_253_energy_-246.08788_antigen.pdb\n",
      "writing antibody_antigen_complex to /data/samples/docking/RA/results/best/S5205Nr1-P2_IgG1Fc_H_top_30_heavy_chains/FIXED_2_27457_H_253_energy_-246.08788/FIXED_2_27457_H_253_energy_-246.08788_antigen.pdb\n",
      "splitting the model /data/samples/docking/RA/results/best/S5205Nr1-P2_IgG1Fc_H_top_30_heavy_chains/FIXED_1_35744_H_64_energy_-263.5477.pdb into antigen\n",
      "writing antibody to /data/samples/docking/RA/results/best/S5205Nr1-P2_IgG1Fc_H_top_30_heavy_chains/FIXED_1_35744_H_64_energy_-263.5477/FIXED_1_35744_H_64_energy_-263.5477_antibody.pdb\n",
      "writing antigen to /data/samples/docking/RA/results/best/S5205Nr1-P2_IgG1Fc_H_top_30_heavy_chains/FIXED_1_35744_H_64_energy_-263.5477/FIXED_1_35744_H_64_energy_-263.5477_antigen.pdb\n",
      "writing antibody_antigen_complex to /data/samples/docking/RA/results/best/S5205Nr1-P2_IgG1Fc_H_top_30_heavy_chains/FIXED_1_35744_H_64_energy_-263.5477/FIXED_1_35744_H_64_energy_-263.5477_antigen.pdb\n",
      "splitting the model /data/samples/docking/RA/results/best/S5205Nr1-P2_IgG1Fc_H_top_30_heavy_chains/FIXED_1_35744_H_1_energy_-254.21349.pdb into antigen\n",
      "writing antibody to /data/samples/docking/RA/results/best/S5205Nr1-P2_IgG1Fc_H_top_30_heavy_chains/FIXED_1_35744_H_1_energy_-254.21349/FIXED_1_35744_H_1_energy_-254.21349_antibody.pdb\n",
      "writing antigen to /data/samples/docking/RA/results/best/S5205Nr1-P2_IgG1Fc_H_top_30_heavy_chains/FIXED_1_35744_H_1_energy_-254.21349/FIXED_1_35744_H_1_energy_-254.21349_antigen.pdb\n",
      "writing antibody_antigen_complex to /data/samples/docking/RA/results/best/S5205Nr1-P2_IgG1Fc_H_top_30_heavy_chains/FIXED_1_35744_H_1_energy_-254.21349/FIXED_1_35744_H_1_energy_-254.21349_antigen.pdb\n",
      "splitting the model /data/samples/docking/RA/results/best/S5205Nr1-P2_IgG1Fc_H_top_30_heavy_chains/FIXED_2_27457_H_257_energy_-248.7721.pdb into antigen\n",
      "writing antibody to /data/samples/docking/RA/results/best/S5205Nr1-P2_IgG1Fc_H_top_30_heavy_chains/FIXED_2_27457_H_257_energy_-248.7721/FIXED_2_27457_H_257_energy_-248.7721_antibody.pdb\n",
      "writing antigen to /data/samples/docking/RA/results/best/S5205Nr1-P2_IgG1Fc_H_top_30_heavy_chains/FIXED_2_27457_H_257_energy_-248.7721/FIXED_2_27457_H_257_energy_-248.7721_antigen.pdb\n",
      "writing antibody_antigen_complex to /data/samples/docking/RA/results/best/S5205Nr1-P2_IgG1Fc_H_top_30_heavy_chains/FIXED_2_27457_H_257_energy_-248.7721/FIXED_2_27457_H_257_energy_-248.7721_antigen.pdb\n",
      "splitting the model /data/samples/docking/RA/results/best/S5205Nr1-P2_IgG1Fc_H_top_30_heavy_chains/FIXED_1_35744_H_112_energy_-265.2682.pdb into antigen\n",
      "writing antibody to /data/samples/docking/RA/results/best/S5205Nr1-P2_IgG1Fc_H_top_30_heavy_chains/FIXED_1_35744_H_112_energy_-265.2682/FIXED_1_35744_H_112_energy_-265.2682_antibody.pdb\n",
      "writing antigen to /data/samples/docking/RA/results/best/S5205Nr1-P2_IgG1Fc_H_top_30_heavy_chains/FIXED_1_35744_H_112_energy_-265.2682/FIXED_1_35744_H_112_energy_-265.2682_antigen.pdb\n",
      "writing antibody_antigen_complex to /data/samples/docking/RA/results/best/S5205Nr1-P2_IgG1Fc_H_top_30_heavy_chains/FIXED_1_35744_H_112_energy_-265.2682/FIXED_1_35744_H_112_energy_-265.2682_antigen.pdb\n",
      "splitting the model /data/samples/docking/RA/results/best/S5205Nr1-P2_IgG1Fc_H_top_30_heavy_chains/FIXED_3_17806_H_5_energy_-238.0523.pdb into antigen\n",
      "writing antibody to /data/samples/docking/RA/results/best/S5205Nr1-P2_IgG1Fc_H_top_30_heavy_chains/FIXED_3_17806_H_5_energy_-238.0523/FIXED_3_17806_H_5_energy_-238.0523_antibody.pdb\n",
      "writing antigen to /data/samples/docking/RA/results/best/S5205Nr1-P2_IgG1Fc_H_top_30_heavy_chains/FIXED_3_17806_H_5_energy_-238.0523/FIXED_3_17806_H_5_energy_-238.0523_antigen.pdb\n",
      "writing antibody_antigen_complex to /data/samples/docking/RA/results/best/S5205Nr1-P2_IgG1Fc_H_top_30_heavy_chains/FIXED_3_17806_H_5_energy_-238.0523/FIXED_3_17806_H_5_energy_-238.0523_antigen.pdb\n",
      "splitting the model /data/samples/docking/RA/results/best/S5205Nr1-P2_IgG1Fc_H_top_30_heavy_chains/FIXED_3_17806_H_35_energy_-224.0373.pdb into antigen\n",
      "writing antibody to /data/samples/docking/RA/results/best/S5205Nr1-P2_IgG1Fc_H_top_30_heavy_chains/FIXED_3_17806_H_35_energy_-224.0373/FIXED_3_17806_H_35_energy_-224.0373_antibody.pdb\n",
      "writing antigen to /data/samples/docking/RA/results/best/S5205Nr1-P2_IgG1Fc_H_top_30_heavy_chains/FIXED_3_17806_H_35_energy_-224.0373/FIXED_3_17806_H_35_energy_-224.0373_antigen.pdb\n",
      "writing antibody_antigen_complex to /data/samples/docking/RA/results/best/S5205Nr1-P2_IgG1Fc_H_top_30_heavy_chains/FIXED_3_17806_H_35_energy_-224.0373/FIXED_3_17806_H_35_energy_-224.0373_antigen.pdb\n"
     ]
    }
   ],
   "source": [
    "import shutil\n",
    "\n",
    "for c in files(best_p2_auto):\n",
    "    d = c.parent / c.stem\n",
    "    if d.exists():\n",
    "        shutil.rmtree(d)\n",
    "    if not d.exists():\n",
    "        print(f\"splitting the model {c} into antigen\")\n",
    "        split_and_write(c)"
   ]
  },
  {
   "cell_type": "code",
   "execution_count": null,
   "id": "cd6ff219-d31c-43a7-b5c6-9cf2584a314e",
   "metadata": {},
   "outputs": [],
   "source": []
  }
 ],
 "metadata": {
  "kernelspec": {
   "display_name": "Python 3 (ipykernel)",
   "language": "python",
   "name": "python3"
  },
  "language_info": {
   "codemirror_mode": {
    "name": "ipython",
    "version": 3
   },
   "file_extension": ".py",
   "mimetype": "text/x-python",
   "name": "python",
   "nbconvert_exporter": "python",
   "pygments_lexer": "ipython3",
   "version": "3.9.7"
  }
 },
 "nbformat": 4,
 "nbformat_minor": 5
}
