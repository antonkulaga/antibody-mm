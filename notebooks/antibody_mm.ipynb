{
 "cells": [
  {
   "cell_type": "markdown",
   "id": "4dd6943c-ee34-4a37-9412-ef87913280e2",
   "metadata": {
    "tags": []
   },
   "source": [
    "Basic code for antibody-based simulations\n",
    "==========="
   ]
  },
  {
   "cell_type": "markdown",
   "id": "3266a155-7a2e-41fd-acf3-bf8951a35caf",
   "metadata": {},
   "source": [
    "## basic imports ##"
   ]
  },
  {
   "cell_type": "code",
   "execution_count": 1,
   "id": "0c6dbd5b-4806-4645-ab11-074fb39e0b46",
   "metadata": {},
   "outputs": [],
   "source": [
    "from openmm.app import *\n",
    "from openmm import *\n",
    "from openmm.unit import *\n",
    "from mdtraj.reporters import *\n",
    "from functional import seq\n",
    "\n",
    "from pathlib import Path\n",
    "import sys\n",
    "from sys import stdout\n",
    "import inspect"
   ]
  },
  {
   "cell_type": "code",
   "execution_count": 2,
   "id": "65189a75",
   "metadata": {
    "collapsed": false,
    "jupyter": {
     "outputs_hidden": false
    },
    "pycharm": {
     "name": "#%%\n"
    }
   },
   "outputs": [
    {
     "name": "stdout",
     "output_type": "stream",
     "text": [
      "extending pathes with local yspecies\n",
      "['/data/sources/antibody-mm/mm', '/data/sources/antibody-mm/notebooks', '/home/antonkulaga/micromamba/envs/antibody-mm/lib/python39.zip', '/home/antonkulaga/micromamba/envs/antibody-mm/lib/python3.9', '/home/antonkulaga/micromamba/envs/antibody-mm/lib/python3.9/lib-dynload', '', '/home/antonkulaga/micromamba/envs/antibody-mm/lib/python3.9/site-packages', '/home/antonkulaga/micromamba/envs/antibody-mm/lib/python3.9/site-packages/IPython/extensions', '/home/antonkulaga/.ipython']\n"
     ]
    }
   ],
   "source": [
    "debug_local = True#False\n",
    "local = Path(\"..\").resolve()\n",
    "code = local / \"mm\"\n",
    "data  = local / \"data\"\n",
    "input = data / \"input\"\n",
    "output = data / \"output\"\n",
    "\n",
    "if debug_local and code.exists():\n",
    "    sys.path.insert(0, code.as_posix())\n",
    "    print(\"extending pathes with local yspecies\")\n",
    "    print(sys.path)\n",
    "    %load_ext autoreload\n",
    "    %autoreload 2"
   ]
  },
  {
   "cell_type": "code",
   "execution_count": 3,
   "id": "ef3fd25a-2b4d-4977-93bf-e07cf93f6f56",
   "metadata": {},
   "outputs": [
    {
     "name": "stdout",
     "output_type": "stream",
     "text": [
      "/data/sources/antibody-mm/data/input/1adq_short.pdb\n",
      "/data/sources/antibody-mm/data/input/1adq_fixed.pdb\n"
     ]
    }
   ],
   "source": [
    "def children(p: Path):\n",
    "    \"\"\"\n",
    "    files and subfolders in the folder as sequence\n",
    "    :param p:\n",
    "    :return:\n",
    "    \"\"\"\n",
    "    return seq(list(p.iterdir()))\n",
    "children(input).for_each(print)"
   ]
  },
  {
   "cell_type": "code",
   "execution_count": 4,
   "id": "a99d9a38-bd27-4cf9-a340-3a6ad6ae4623",
   "metadata": {},
   "outputs": [
    {
     "name": "stdout",
     "output_type": "stream",
     "text": [
      "/data/sources/antibody-mm/data/input/1adq_short.pdb\n",
      "/data/sources/antibody-mm/data/input/1adq_fixed.pdb\n"
     ]
    }
   ],
   "source": [
    "children(input).for_each(print)"
   ]
  },
  {
   "cell_type": "markdown",
   "id": "c51773f1-19ff-437e-990a-b8ef5e75afe9",
   "metadata": {},
   "source": [
    "## Setting simulation up ##"
   ]
  },
  {
   "cell_type": "markdown",
   "id": "687703f6-7d0f-4068-bca5-f8417568bf62",
   "metadata": {},
   "source": [
    "### Loading the file ###"
   ]
  },
  {
   "cell_type": "code",
   "execution_count": 5,
   "id": "d0ec6216-1ae0-4795-b55b-36a906fabb98",
   "metadata": {},
   "outputs": [],
   "source": [
    "#pdb_name = \"1adq_short.pdb\"\n",
    "#pdb_name = \"1adq_short.pdb\"\n",
    "pdb_name = \"1adq_fixed.pdb\"\n",
    "pdb_path = (input / pdb_name) \n",
    "pdb_stem =pdb_path.stem\n",
    "pdb = PDBFile(pdb_path.as_posix())\n",
    "modeller = Modeller(pdb.topology, pdb.positions)\n",
    "modeller.deleteWater() #for implicit solvent\n"
   ]
  },
  {
   "cell_type": "markdown",
   "id": "339b5803-1de5-471e-bdfb-b41c92a6a2af",
   "metadata": {
    "tags": []
   },
   "source": [
    "#### Setting up the force field and system ####"
   ]
  },
  {
   "cell_type": "code",
   "execution_count": 6,
   "id": "0ed34f18-16cc-4545-80a4-2c9f1a9b27a8",
   "metadata": {},
   "outputs": [
    {
     "data": {
      "text/plain": [
       "''"
      ]
     },
     "execution_count": 6,
     "metadata": {},
     "output_type": "execute_result"
    }
   ],
   "source": [
    "#forcefield = ForceField('amber14-all.xml', 'amber14/tip3pfb.xml')\n",
    "#system = forcefield.createSystem(modeller.topology, nonbondedMethod=PME, constraints=HBonds)\n",
    "\n",
    "forcefield = ForceField('amber14/protein.ff14SB.xml', 'amber14/tip3pfb.xml')\n",
    "modeller.addHydrogens(forcefield)\n",
    "\"\""
   ]
  },
  {
   "cell_type": "code",
   "execution_count": 7,
   "id": "43f360ec-f5ad-4286-a5c5-c537ed85d946",
   "metadata": {},
   "outputs": [],
   "source": [
    "system = forcefield.createSystem(modeller.topology, \n",
    "                                 nonbondedMethod=CutoffNonPeriodic,\n",
    "        nonbondedCutoff=1.2*nanometer,\n",
    "        switchDistance=1.0*nanometer, \n",
    "        constraints=HBonds, \n",
    "        implicitSolvent=app.GBn2,\n",
    "        implicitSolventSaltConc=0.15*moles/liter)"
   ]
  },
  {
   "cell_type": "code",
   "execution_count": 8,
   "id": "e62a29df-7b41-47b6-82af-90add5015999",
   "metadata": {},
   "outputs": [],
   "source": [
    "temperature = 310 * kelvin\n",
    "integrator = LangevinMiddleIntegrator(temperature, 1 / picosecond, 0.002*picoseconds)"
   ]
  },
  {
   "cell_type": "markdown",
   "id": "228cc2b7-c438-4c05-936c-c4de9285c21f",
   "metadata": {},
   "source": [
    "#### Setting up simulation ####"
   ]
  },
  {
   "cell_type": "code",
   "execution_count": 9,
   "id": "f12b2863-4937-487c-9453-8fc545db30a7",
   "metadata": {},
   "outputs": [],
   "source": [
    "simulation = Simulation(pdb.topology, system, integrator)\n",
    "simulation.context.setPositions(modeller.positions)\n",
    "simulation.minimizeEnergy()"
   ]
  },
  {
   "cell_type": "markdown",
   "id": "a28394a8-dcc7-433a-91f6-51af727a3795",
   "metadata": {},
   "source": [
    "#### Adding reporters ####"
   ]
  },
  {
   "cell_type": "code",
   "execution_count": 10,
   "id": "fd6a8595-5b71-418b-a74d-8c7cee51aab2",
   "metadata": {},
   "outputs": [],
   "source": [
    "report_interval = 1000\n",
    "checkpoint_interval = report_interval * 10\n",
    "report_pdb: bool = True #pdb reporter can be heavy\n"
   ]
  },
  {
   "cell_type": "code",
   "execution_count": 11,
   "id": "5755fac2-eb22-4c64-a2bd-4a489742e6ac",
   "metadata": {},
   "outputs": [],
   "source": [
    "simulation.reporters.append(PDBReporter((output / f'{pdb_stem}.dcd').as_posix(), report_interval))\n",
    "simulation.reporters.append(DCDReporter((output / f'{pdb_stem}.dcd').as_posix(), report_interval))\n",
    "simulation.reporters.append(StateDataReporter(stdout, checkpoint_interval, potentialEnergy=True, kineticEnergy=True, totalEnergy=True, step=True,temperature=True, separator='\\t'))\n",
    "simulation.reporters.append(StateDataReporter((output / f'{pdb_stem}_log.tsv').as_posix(), report_interval, potentialEnergy=True, kineticEnergy=True, totalEnergy=True, step=True,temperature=True, separator='\\t'))\n",
    "simulation.reporters.append(HDF5Reporter((output / f'{pdb_stem}_log.h5').as_posix(), report_interval, coordinates=True, time=True, cell=True, potentialEnergy=True, kineticEnergy=True, temperature=True))\n",
    "simulation.reporters.append(CheckpointReporter((output / f'{pdb_stem}_results.chk').as_posix(), checkpoint_interval))\n"
   ]
  },
  {
   "cell_type": "markdown",
   "id": "2c6de38d-a75e-442b-9fb3-8214874ad380",
   "metadata": {
    "tags": []
   },
   "source": [
    "## Running the simulation ##"
   ]
  },
  {
   "cell_type": "code",
   "execution_count": 12,
   "id": "4b7332cb-d158-4ef8-9bec-39fad51fd0b0",
   "metadata": {},
   "outputs": [],
   "source": [
    "steps = 50000 #50000000 # to get 10 nanoseconds"
   ]
  },
  {
   "cell_type": "code",
   "execution_count": 13,
   "id": "2b0eb36f-91b2-4591-9ab4-99acdf46aa41",
   "metadata": {},
   "outputs": [
    {
     "name": "stderr",
     "output_type": "stream",
     "text": [
      "/home/antonkulaga/micromamba/envs/antibody-mm/lib/python3.9/site-packages/mdtraj/utils/validation.py:115: TypeCastPerformanceWarning: Casting xyz dtype=float64 to <class 'numpy.float32'> \n",
      "  warnings.warn(\"Casting %s dtype=%s to %s \" % (name, val.dtype, dtype),\n"
     ]
    },
    {
     "name": "stdout",
     "output_type": "stream",
     "text": [
      "#\"Step\"\t\"Potential Energy (kJ/mole)\"\t\"Kinetic Energy (kJ/mole)\"\t\"Total Energy (kJ/mole)\"\t\"Temperature (K)\"\n",
      "10000\t38089.3359375\t31800.37828320451\t69889.71422070451\t310.97702149528965\n",
      "20000\t36957.98828125\t31811.312096182723\t68769.30037743272\t311.08394363826767\n",
      "30000\t37177.3359375\t31931.08851265651\t69108.42445015651\t312.25524144198187\n",
      "40000\t36654.65625\t31821.49870712147\t68476.15495712147\t311.18355886613233\n",
      "50000\t36728.69921875\t32122.702610051725\t68851.40182880173\t314.12904246264276\n"
     ]
    }
   ],
   "source": [
    "simulation.step(steps)"
   ]
  },
  {
   "cell_type": "code",
   "execution_count": 14,
   "id": "6c9226fd-becc-41d0-9c2d-10832e444791",
   "metadata": {},
   "outputs": [],
   "source": [
    "finalpositions = simulation.context.getState(getPositions=True).getPositions()\n",
    "PDBFile.writeFile(simulation.topology, finalpositions, open((output / f'{pdb_stem}.pdb').as_posix(), 'w'))\n",
    "\n",
    "simulation.saveState('finalstate.xml')\n",
    "simulation.saveCheckpoint('finalstate.chk')\n",
    "\n",
    "simulation.saveState((output / f'{pdb_stem}_results.xml').as_posix())\n",
    "simulation.saveCheckpoint((output / f'{pdb_stem}_results.chk').as_posix())"
   ]
  }
 ],
 "metadata": {
  "kernelspec": {
   "display_name": "Python 3 (ipykernel)",
   "language": "python",
   "name": "python3"
  },
  "language_info": {
   "codemirror_mode": {
    "name": "ipython",
    "version": 3
   },
   "file_extension": ".py",
   "mimetype": "text/x-python",
   "name": "python",
   "nbconvert_exporter": "python",
   "pygments_lexer": "ipython3",
   "version": "3.9.7"
  }
 },
 "nbformat": 4,
 "nbformat_minor": 5
}