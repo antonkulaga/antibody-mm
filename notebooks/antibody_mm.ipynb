{
 "cells": [
  {
   "cell_type": "markdown",
   "id": "4dd6943c-ee34-4a37-9412-ef87913280e2",
   "metadata": {
    "tags": []
   },
   "source": [
    "Basic code for antibody-based simulations\n",
    "==========="
   ]
  },
  {
   "cell_type": "markdown",
   "id": "3266a155-7a2e-41fd-acf3-bf8951a35caf",
   "metadata": {},
   "source": [
    "## basic imports ##"
   ]
  },
  {
   "cell_type": "code",
   "execution_count": 1,
   "id": "0c6dbd5b-4806-4645-ab11-074fb39e0b46",
   "metadata": {},
   "outputs": [],
   "source": [
    "from openmm.app import *\n",
    "from openmm import *\n",
    "from openmm.unit import *\n",
    "from mdtraj.reporters import *\n",
    "from functional import seq\n",
    "\n",
    "from pathlib import Path\n",
    "import sys\n",
    "from sys import stdout\n",
    "import inspect\n",
    "from pycomfort.files import *"
   ]
  },
  {
   "cell_type": "code",
   "execution_count": 2,
   "id": "65189a75",
   "metadata": {
    "collapsed": false,
    "jupyter": {
     "outputs_hidden": false
    },
    "pycharm": {
     "name": "#%%\n"
    }
   },
   "outputs": [
    {
     "name": "stdout",
     "output_type": "stream",
     "text": [
      "extending pathes with local yspecies\n",
      "['/data/sources/antibody-mm/mm', '/data/sources/antibody-mm/notebooks', '/home/antonkulaga/micromamba/envs/antibody-mm/lib/python39.zip', '/home/antonkulaga/micromamba/envs/antibody-mm/lib/python3.9', '/home/antonkulaga/micromamba/envs/antibody-mm/lib/python3.9/lib-dynload', '', '/home/antonkulaga/micromamba/envs/antibody-mm/lib/python3.9/site-packages', '/home/antonkulaga/micromamba/envs/antibody-mm/lib/python3.9/site-packages/IPython/extensions', '/home/antonkulaga/.ipython']\n"
     ]
    }
   ],
   "source": [
    "debug_local = True#False\n",
    "local = Path(\"..\").resolve()\n",
    "code = local / \"mm\"\n",
    "data  = local / \"data\"\n",
    "input = data / \"input\"\n",
    "output = data / \"output\"\n",
    "\n",
    "if debug_local and code.exists():\n",
    "    sys.path.insert(0, code.as_posix())\n",
    "    print(\"extending pathes with local yspecies\")\n",
    "    print(sys.path)\n",
    "    %load_ext autoreload\n",
    "    %autoreload 2"
   ]
  },
  {
   "cell_type": "code",
   "execution_count": 3,
   "id": "a99d9a38-bd27-4cf9-a340-3a6ad6ae4623",
   "metadata": {},
   "outputs": [
    {
     "name": "stdout",
     "output_type": "stream",
     "text": [
      "/data/sources/antibody-mm/data/input/RA\n",
      "/data/sources/antibody-mm/data/input/1ADQ\n"
     ]
    }
   ],
   "source": [
    "children(input).for_each(print)"
   ]
  },
  {
   "cell_type": "markdown",
   "id": "c51773f1-19ff-437e-990a-b8ef5e75afe9",
   "metadata": {},
   "source": [
    "## Setting simulation parameters ##"
   ]
  },
  {
   "cell_type": "code",
   "execution_count": 5,
   "id": "c0f65f60-1fe4-41ca-8861-5991c9c3414c",
   "metadata": {},
   "outputs": [],
   "source": [
    "def make_simulation(path: Path, delete_water: bool = True, add_hydrogens: bool = True):\n",
    "    pdb = PDBFile(path.as_posix())\n",
    "    modeller = Modeller(pdb.topology, pdb.positions)\n",
    "    forcefield = ForceField('amber14/protein.ff14SB.xml', 'amber14/tip3pfb.xml')\n",
    "    temperature = 310 * kelvin\n",
    "    integrator = LangevinMiddleIntegrator(temperature, 1 / picosecond, 0.002*picoseconds)\n",
    "    if delete_water:\n",
    "        modeller.deleteWater()\n",
    "    if add_hydrogens:\n",
    "        modeller.addHydrogens(forcefield)\n",
    "        #forcefield = ForceField('amber14-all.xml', 'amber14/tip3pfb.xml')\n",
    "    system = forcefield.createSystem(modeller.topology, \n",
    "        nonbondedMethod=CutoffNonPeriodic,\n",
    "        nonbondedCutoff=1.2*nanometer,\n",
    "        switchDistance=1.0*nanometer, \n",
    "        constraints=HBonds, \n",
    "        implicitSolvent=app.GBn2, implicitSolventSaltConc=0.15*moles/liter\n",
    "        )\n",
    "    simulation = Simulation(pdb.topology, system, integrator)\n",
    "    simulation.context.setPositions(modeller.positions)\n",
    "    simulation.minimizeEnergy()\n",
    "    return simulation"
   ]
  },
  {
   "cell_type": "code",
   "execution_count": 6,
   "id": "455ea83f-a130-4b26-80e3-b52e86f51edd",
   "metadata": {},
   "outputs": [],
   "source": [
    "def with_reporters(simulation: Simulation, pdb: Path, where: Path = output,\n",
    "                 report_interval: int = 1000, checkpoint_interval: int = 10000, \n",
    "                 #report_pdb: bool = True #pdb reporter can be heavy\n",
    "               ): \n",
    "    #simulation.reporters.append(PDBReporter((where / f'{pdb.stem}.dcd').as_posix(), report_interval))\n",
    "    simulation.reporters.append(DCDReporter((where / f'{pdb.stem}.dcd').as_posix(), report_interval))\n",
    "    simulation.reporters.append(StateDataReporter((where / f'{pdb.stem}_log.tsv').as_posix(), report_interval, potentialEnergy=True, kineticEnergy=True, totalEnergy=True, step=True,temperature=True, separator='\\t'))\n",
    "    simulation.reporters.append(HDF5Reporter((where / f'{pdb.stem}_log.h5').as_posix(), report_interval, coordinates=True, time=True, cell=True, potentialEnergy=True, kineticEnergy=True, temperature=True))\n",
    "    simulation.reporters.append(CheckpointReporter((where / f'{pdb.stem}_results.chk').as_posix(), checkpoint_interval))\n",
    "    return simulation"
   ]
  },
  {
   "cell_type": "code",
   "execution_count": 17,
   "id": "af1d91f5-5727-4b7e-946f-0f3fd6d63e03",
   "metadata": {},
   "outputs": [],
   "source": [
    "def save_results(sim: Simulation, where: Path = output) -> Simulation:\n",
    "    finalpositions = sim.context.getState(getPositions=True).getPositions()\n",
    "    PDBFile.writeFile(sim.topology, finalpositions, open((where / f'{pdb_stem}.pdb').as_posix(), 'w'))\n",
    "    sim.saveState('finalstate.xml')\n",
    "    sim.saveCheckpoint('finalstate.chk')\n",
    "    sim.saveState((output / f'{pdb_stem}_results.xml').as_posix())\n",
    "    sim.saveCheckpoint((output / f'{pdb_stem}_results.chk').as_posix())\n",
    "    return sim"
   ]
  },
  {
   "cell_type": "markdown",
   "id": "687703f6-7d0f-4068-bca5-f8417568bf62",
   "metadata": {
    "tags": []
   },
   "source": [
    "### Loading folders and files ###"
   ]
  },
  {
   "cell_type": "code",
   "execution_count": 7,
   "id": "d0ec6216-1ae0-4795-b55b-36a906fabb98",
   "metadata": {},
   "outputs": [
    {
     "name": "stdout",
     "output_type": "stream",
     "text": [
      "best\n",
      "\tS5205Nr1-P2_IgG1Fc_H_top_30_heavy_chains\n",
      "\t\t3_17806_H_5_energy_-238.0523.pdb\n",
      "\t\t3_17806_H_35_energy_-224.0373.pdb\n",
      "\t\tFIXED_1_35744_H_64_energy_-263.5477.pdb\n",
      "\t\tFIXED_1_35744_H_1_energy_-254.21349.pdb\n",
      "\t\t1_35744_H_64_energy_-263.5477.pdb\n",
      "\t\t1_35744_H_1_energy_-254.21349.pdb\n",
      "\t\t2_27457_H_257_energy_-248.7721.pdb\n",
      "\t\tFIXED_1_35744_H_112_energy_-265.2682.pdb\n",
      "\t\t1_35744_H_112_energy_-265.2682.pdb\n",
      "\t\t2_27457_H_253_energy_-246.08788.pdb\n",
      "\t\t2_27457_H_244_energy_-284.44533.pdb\n",
      "\t\t3_17806_H_24_energy_-221.3707.pdb\n",
      "\tS5205Nr1-P2_PBMC_L_top_30_heavy_chains\n",
      "\t\t1_27244_H_30_energy_-263.64684.pdb\n",
      "\t\t1_27244_H_23_energy_-251.4212.pdb\n",
      "\t\t1_27244_H_297_energy_-260.30115.pdb\n"
     ]
    }
   ],
   "source": [
    "docking_results = Path(\"/data/samples/docking/results/\")\n",
    "best_docking_results = docking_results / \"best\"\n",
    "tprint(best_docking_results)\n"
   ]
  },
  {
   "cell_type": "code",
   "execution_count": 8,
   "id": "dfc5d7b0-b609-4c79-8efb-2b8ff6247022",
   "metadata": {},
   "outputs": [
    {
     "name": "stdout",
     "output_type": "stream",
     "text": [
      "S5205Nr1-P2_IgG1Fc_H_top_30_heavy_chains\n",
      "\t3_17806_H_5_energy_-238.0523.pdb\n",
      "\t3_17806_H_35_energy_-224.0373.pdb\n",
      "\tFIXED_1_35744_H_64_energy_-263.5477.pdb\n",
      "\tFIXED_1_35744_H_1_energy_-254.21349.pdb\n",
      "\t1_35744_H_64_energy_-263.5477.pdb\n",
      "\t1_35744_H_1_energy_-254.21349.pdb\n",
      "\t2_27457_H_257_energy_-248.7721.pdb\n",
      "\tFIXED_1_35744_H_112_energy_-265.2682.pdb\n",
      "\t1_35744_H_112_energy_-265.2682.pdb\n",
      "\t2_27457_H_253_energy_-246.08788.pdb\n",
      "\t2_27457_H_244_energy_-284.44533.pdb\n",
      "\t3_17806_H_24_energy_-221.3707.pdb\n"
     ]
    }
   ],
   "source": [
    "p2_auto = best_docking_results / \"S5205Nr1-P2_IgG1Fc_H_top_30_heavy_chains\"\n",
    "p2_pbmc = best_docking_results / \"S5205Nr1-P2_PBMC_L_top_30_heavy_chains\"\n",
    "tprint(p2_auto)"
   ]
  },
  {
   "cell_type": "code",
   "execution_count": 9,
   "id": "6f1699bf-6fe7-4f18-bd44-f5aeb676cfd4",
   "metadata": {},
   "outputs": [],
   "source": [
    "pdb = p2_auto / \"FIXED_1_35744_H_112_energy_-265.2682.pdb\"\n"
   ]
  },
  {
   "cell_type": "markdown",
   "id": "b392f756-addb-4f68-b97b-69ddcdd3c586",
   "metadata": {},
   "source": [
    "### Making simulation"
   ]
  },
  {
   "cell_type": "code",
   "execution_count": 10,
   "id": "26753599-1783-4320-82fe-e4752e4f0d96",
   "metadata": {},
   "outputs": [],
   "source": [
    "sim = make_simulation(pdb)"
   ]
  },
  {
   "cell_type": "code",
   "execution_count": 11,
   "id": "29584444-45f0-4d81-8bb1-bebabef5e68b",
   "metadata": {},
   "outputs": [
    {
     "data": {
      "text/plain": [
       "<openmm.app.simulation.Simulation at 0x7f918374bcd0>"
      ]
     },
     "execution_count": 11,
     "metadata": {},
     "output_type": "execute_result"
    }
   ],
   "source": [
    "sim_ext = with_reporters(sim, pdb, output)\n",
    "sim_ext"
   ]
  },
  {
   "cell_type": "markdown",
   "id": "2c6de38d-a75e-442b-9fb3-8214874ad380",
   "metadata": {
    "tags": []
   },
   "source": [
    "## Running the simulation ##"
   ]
  },
  {
   "cell_type": "code",
   "execution_count": 12,
   "id": "4b7332cb-d158-4ef8-9bec-39fad51fd0b0",
   "metadata": {},
   "outputs": [],
   "source": [
    "steps = 50000 #50000000 # to get 10 nanoseconds"
   ]
  },
  {
   "cell_type": "code",
   "execution_count": 14,
   "id": "2b0eb36f-91b2-4591-9ab4-99acdf46aa41",
   "metadata": {},
   "outputs": [
    {
     "name": "stderr",
     "output_type": "stream",
     "text": [
      "/home/antonkulaga/micromamba/envs/antibody-mm/lib/python3.9/site-packages/mdtraj/utils/validation.py:115: TypeCastPerformanceWarning: Casting xyz dtype=float64 to <class 'numpy.float32'> \n",
      "  warnings.warn(\"Casting %s dtype=%s to %s \" % (name, val.dtype, dtype),\n"
     ]
    },
    {
     "ename": "AttributeError",
     "evalue": "'PosixPath' object has no attribute 'write'",
     "output_type": "error",
     "traceback": [
      "\u001b[0;31m---------------------------------------------------------------------------\u001b[0m",
      "\u001b[0;31mAttributeError\u001b[0m                            Traceback (most recent call last)",
      "\u001b[0;32m/tmp/ipykernel_87819/1735315076.py\u001b[0m in \u001b[0;36m<module>\u001b[0;34m\u001b[0m\n\u001b[0;32m----> 1\u001b[0;31m \u001b[0msim\u001b[0m\u001b[0;34m.\u001b[0m\u001b[0mstep\u001b[0m\u001b[0;34m(\u001b[0m\u001b[0msteps\u001b[0m\u001b[0;34m)\u001b[0m\u001b[0;34m\u001b[0m\u001b[0;34m\u001b[0m\u001b[0m\n\u001b[0m",
      "\u001b[0;32m~/micromamba/envs/antibody-mm/lib/python3.9/site-packages/openmm/app/simulation.py\u001b[0m in \u001b[0;36mstep\u001b[0;34m(self, steps)\u001b[0m\n\u001b[1;32m    139\u001b[0m     \u001b[0;32mdef\u001b[0m \u001b[0mstep\u001b[0m\u001b[0;34m(\u001b[0m\u001b[0mself\u001b[0m\u001b[0;34m,\u001b[0m \u001b[0msteps\u001b[0m\u001b[0;34m)\u001b[0m\u001b[0;34m:\u001b[0m\u001b[0;34m\u001b[0m\u001b[0;34m\u001b[0m\u001b[0m\n\u001b[1;32m    140\u001b[0m         \u001b[0;34m\"\"\"Advance the simulation by integrating a specified number of time steps.\"\"\"\u001b[0m\u001b[0;34m\u001b[0m\u001b[0;34m\u001b[0m\u001b[0m\n\u001b[0;32m--> 141\u001b[0;31m         \u001b[0mself\u001b[0m\u001b[0;34m.\u001b[0m\u001b[0m_simulate\u001b[0m\u001b[0;34m(\u001b[0m\u001b[0mendStep\u001b[0m\u001b[0;34m=\u001b[0m\u001b[0mself\u001b[0m\u001b[0;34m.\u001b[0m\u001b[0mcurrentStep\u001b[0m\u001b[0;34m+\u001b[0m\u001b[0msteps\u001b[0m\u001b[0;34m)\u001b[0m\u001b[0;34m\u001b[0m\u001b[0;34m\u001b[0m\u001b[0m\n\u001b[0m\u001b[1;32m    142\u001b[0m \u001b[0;34m\u001b[0m\u001b[0m\n\u001b[1;32m    143\u001b[0m     \u001b[0;32mdef\u001b[0m \u001b[0mrunForClockTime\u001b[0m\u001b[0;34m(\u001b[0m\u001b[0mself\u001b[0m\u001b[0;34m,\u001b[0m \u001b[0mtime\u001b[0m\u001b[0;34m,\u001b[0m \u001b[0mcheckpointFile\u001b[0m\u001b[0;34m=\u001b[0m\u001b[0;32mNone\u001b[0m\u001b[0;34m,\u001b[0m \u001b[0mstateFile\u001b[0m\u001b[0;34m=\u001b[0m\u001b[0;32mNone\u001b[0m\u001b[0;34m,\u001b[0m \u001b[0mcheckpointInterval\u001b[0m\u001b[0;34m=\u001b[0m\u001b[0;32mNone\u001b[0m\u001b[0;34m)\u001b[0m\u001b[0;34m:\u001b[0m\u001b[0;34m\u001b[0m\u001b[0;34m\u001b[0m\u001b[0m\n",
      "\u001b[0;32m~/micromamba/envs/antibody-mm/lib/python3.9/site-packages/openmm/app/simulation.py\u001b[0m in \u001b[0;36m_simulate\u001b[0;34m(self, endStep, endTime)\u001b[0m\n\u001b[1;32m    241\u001b[0m                     \u001b[0mself\u001b[0m\u001b[0;34m.\u001b[0m\u001b[0m_generate_reports\u001b[0m\u001b[0;34m(\u001b[0m\u001b[0mwrapped\u001b[0m\u001b[0;34m,\u001b[0m \u001b[0;32mTrue\u001b[0m\u001b[0;34m)\u001b[0m\u001b[0;34m\u001b[0m\u001b[0;34m\u001b[0m\u001b[0m\n\u001b[1;32m    242\u001b[0m                 \u001b[0;32mif\u001b[0m \u001b[0mlen\u001b[0m\u001b[0;34m(\u001b[0m\u001b[0munwrapped\u001b[0m\u001b[0;34m)\u001b[0m \u001b[0;34m>\u001b[0m \u001b[0;36m0\u001b[0m\u001b[0;34m:\u001b[0m\u001b[0;34m\u001b[0m\u001b[0;34m\u001b[0m\u001b[0m\n\u001b[0;32m--> 243\u001b[0;31m                     \u001b[0mself\u001b[0m\u001b[0;34m.\u001b[0m\u001b[0m_generate_reports\u001b[0m\u001b[0;34m(\u001b[0m\u001b[0munwrapped\u001b[0m\u001b[0;34m,\u001b[0m \u001b[0;32mFalse\u001b[0m\u001b[0;34m)\u001b[0m\u001b[0;34m\u001b[0m\u001b[0;34m\u001b[0m\u001b[0m\n\u001b[0m\u001b[1;32m    244\u001b[0m \u001b[0;34m\u001b[0m\u001b[0m\n\u001b[1;32m    245\u001b[0m     \u001b[0;32mdef\u001b[0m \u001b[0m_generate_reports\u001b[0m\u001b[0;34m(\u001b[0m\u001b[0mself\u001b[0m\u001b[0;34m,\u001b[0m \u001b[0mreports\u001b[0m\u001b[0;34m,\u001b[0m \u001b[0mperiodic\u001b[0m\u001b[0;34m)\u001b[0m\u001b[0;34m:\u001b[0m\u001b[0;34m\u001b[0m\u001b[0;34m\u001b[0m\u001b[0m\n",
      "\u001b[0;32m~/micromamba/envs/antibody-mm/lib/python3.9/site-packages/openmm/app/simulation.py\u001b[0m in \u001b[0;36m_generate_reports\u001b[0;34m(self, reports, periodic)\u001b[0m\n\u001b[1;32m    261\u001b[0m                                       groups=self.context.getIntegrator().getIntegrationForceGroups())\n\u001b[1;32m    262\u001b[0m         \u001b[0;32mfor\u001b[0m \u001b[0mreporter\u001b[0m\u001b[0;34m,\u001b[0m \u001b[0mnext\u001b[0m \u001b[0;32min\u001b[0m \u001b[0mreports\u001b[0m\u001b[0;34m:\u001b[0m\u001b[0;34m\u001b[0m\u001b[0;34m\u001b[0m\u001b[0m\n\u001b[0;32m--> 263\u001b[0;31m             \u001b[0mreporter\u001b[0m\u001b[0;34m.\u001b[0m\u001b[0mreport\u001b[0m\u001b[0;34m(\u001b[0m\u001b[0mself\u001b[0m\u001b[0;34m,\u001b[0m \u001b[0mstate\u001b[0m\u001b[0;34m)\u001b[0m\u001b[0;34m\u001b[0m\u001b[0;34m\u001b[0m\u001b[0m\n\u001b[0m\u001b[1;32m    264\u001b[0m \u001b[0;34m\u001b[0m\u001b[0m\n\u001b[1;32m    265\u001b[0m     \u001b[0;32mdef\u001b[0m \u001b[0msaveCheckpoint\u001b[0m\u001b[0;34m(\u001b[0m\u001b[0mself\u001b[0m\u001b[0;34m,\u001b[0m \u001b[0mfile\u001b[0m\u001b[0;34m)\u001b[0m\u001b[0;34m:\u001b[0m\u001b[0;34m\u001b[0m\u001b[0;34m\u001b[0m\u001b[0m\n",
      "\u001b[0;32m~/micromamba/envs/antibody-mm/lib/python3.9/site-packages/openmm/app/statedatareporter.py\u001b[0m in \u001b[0;36mreport\u001b[0;34m(self, simulation, state)\u001b[0m\n\u001b[1;32m    193\u001b[0m             \u001b[0mheaders\u001b[0m \u001b[0;34m=\u001b[0m \u001b[0mself\u001b[0m\u001b[0;34m.\u001b[0m\u001b[0m_constructHeaders\u001b[0m\u001b[0;34m(\u001b[0m\u001b[0;34m)\u001b[0m\u001b[0;34m\u001b[0m\u001b[0;34m\u001b[0m\u001b[0m\n\u001b[1;32m    194\u001b[0m             \u001b[0;32mif\u001b[0m \u001b[0;32mnot\u001b[0m \u001b[0mself\u001b[0m\u001b[0;34m.\u001b[0m\u001b[0m_append\u001b[0m\u001b[0;34m:\u001b[0m\u001b[0;34m\u001b[0m\u001b[0;34m\u001b[0m\u001b[0m\n\u001b[0;32m--> 195\u001b[0;31m                 \u001b[0mprint\u001b[0m\u001b[0;34m(\u001b[0m\u001b[0;34m'#\"%s\"'\u001b[0m \u001b[0;34m%\u001b[0m \u001b[0;34m(\u001b[0m\u001b[0;34m'\"'\u001b[0m\u001b[0;34m+\u001b[0m\u001b[0mself\u001b[0m\u001b[0;34m.\u001b[0m\u001b[0m_separator\u001b[0m\u001b[0;34m+\u001b[0m\u001b[0;34m'\"'\u001b[0m\u001b[0;34m)\u001b[0m\u001b[0;34m.\u001b[0m\u001b[0mjoin\u001b[0m\u001b[0;34m(\u001b[0m\u001b[0mheaders\u001b[0m\u001b[0;34m)\u001b[0m\u001b[0;34m,\u001b[0m \u001b[0mfile\u001b[0m\u001b[0;34m=\u001b[0m\u001b[0mself\u001b[0m\u001b[0;34m.\u001b[0m\u001b[0m_out\u001b[0m\u001b[0;34m)\u001b[0m\u001b[0;34m\u001b[0m\u001b[0;34m\u001b[0m\u001b[0m\n\u001b[0m\u001b[1;32m    196\u001b[0m             \u001b[0;32mtry\u001b[0m\u001b[0;34m:\u001b[0m\u001b[0;34m\u001b[0m\u001b[0;34m\u001b[0m\u001b[0m\n\u001b[1;32m    197\u001b[0m                 \u001b[0mself\u001b[0m\u001b[0;34m.\u001b[0m\u001b[0m_out\u001b[0m\u001b[0;34m.\u001b[0m\u001b[0mflush\u001b[0m\u001b[0;34m(\u001b[0m\u001b[0;34m)\u001b[0m\u001b[0;34m\u001b[0m\u001b[0;34m\u001b[0m\u001b[0m\n",
      "\u001b[0;31mAttributeError\u001b[0m: 'PosixPath' object has no attribute 'write'"
     ]
    }
   ],
   "source": [
    "sim.step(steps)"
   ]
  },
  {
   "cell_type": "code",
   "execution_count": 14,
   "id": "6c9226fd-becc-41d0-9c2d-10832e444791",
   "metadata": {},
   "outputs": [],
   "source": [
    "finalpositions = sim_ext.context.getState(getPositions=True).getPositions()\n",
    "PDBFile.writeFile(sim_ext.topology, finalpositions, open((output / f'{pdb_stem}.pdb').as_posix(), 'w'))\n",
    "\n",
    "sim_ext.saveState('finalstate.xml')\n",
    "sim_ext.saveCheckpoint('finalstate.chk')\n",
    "\n",
    "sim_ext.saveState((output / f'{pdb_stem}_results.xml').as_posix())\n",
    "sim_ext.saveCheckpoint((output / f'{pdb_stem}_results.chk').as_posix())"
   ]
  }
 ],
 "metadata": {
  "kernelspec": {
   "display_name": "Python 3 (ipykernel)",
   "language": "python",
   "name": "python3"
  },
  "language_info": {
   "codemirror_mode": {
    "name": "ipython",
    "version": 3
   },
   "file_extension": ".py",
   "mimetype": "text/x-python",
   "name": "python",
   "nbconvert_exporter": "python",
   "pygments_lexer": "ipython3",
   "version": "3.9.7"
  }
 },
 "nbformat": 4,
 "nbformat_minor": 5
}
