{
 "cells": [
  {
   "cell_type": "markdown",
   "id": "4dd6943c-ee34-4a37-9412-ef87913280e2",
   "metadata": {
    "tags": []
   },
   "source": [
    "Basic code for antibody-based simulations\n",
    "==========="
   ]
  },
  {
   "cell_type": "markdown",
   "id": "3266a155-7a2e-41fd-acf3-bf8951a35caf",
   "metadata": {},
   "source": [
    "## basic imports ##"
   ]
  },
  {
   "cell_type": "code",
   "execution_count": 1,
   "id": "0c6dbd5b-4806-4645-ab11-074fb39e0b46",
   "metadata": {},
   "outputs": [],
   "source": [
    "from openmm.app import *\n",
    "from openmm import *\n",
    "from openmm.unit import *\n",
    "from mdtraj.reporters import *\n",
    "\n",
    "from pathlib import Path\n",
    "import sys\n",
    "from sys import stdout\n",
    "import inspect"
   ]
  },
  {
   "cell_type": "code",
   "execution_count": 2,
   "id": "65189a75",
   "metadata": {
    "collapsed": false,
    "jupyter": {
     "outputs_hidden": false
    },
    "pycharm": {
     "name": "#%%\n"
    }
   },
   "outputs": [
    {
     "name": "stdout",
     "output_type": "stream",
     "text": [
      "extending pathes with local yspecies\n",
      "['/data/sources/antibody-mm/mm', '/data/sources/antibody-mm/notebooks', '/home/antonkulaga/micromamba/envs/antibody-mm/lib/python39.zip', '/home/antonkulaga/micromamba/envs/antibody-mm/lib/python3.9', '/home/antonkulaga/micromamba/envs/antibody-mm/lib/python3.9/lib-dynload', '', '/home/antonkulaga/micromamba/envs/antibody-mm/lib/python3.9/site-packages', '/home/antonkulaga/micromamba/envs/antibody-mm/lib/python3.9/site-packages/IPython/extensions', '/home/antonkulaga/.ipython']\n"
     ]
    }
   ],
   "source": [
    "debug_local = True#False\n",
    "local = Path(\"..\").resolve()\n",
    "code = local / \"mm\"\n",
    "data  = local / \"data\"\n",
    "input = data / \"input\"\n",
    "output = data / \"output\"\n",
    "\n",
    "if debug_local and code.exists():\n",
    "    sys.path.insert(0, code.as_posix())\n",
    "    print(\"extending pathes with local yspecies\")\n",
    "    print(sys.path)\n",
    "    %load_ext autoreload\n",
    "    %autoreload 2"
   ]
  },
  {
   "cell_type": "markdown",
   "id": "c51773f1-19ff-437e-990a-b8ef5e75afe9",
   "metadata": {},
   "source": [
    "## Setting simulation up ##"
   ]
  },
  {
   "cell_type": "markdown",
   "id": "687703f6-7d0f-4068-bca5-f8417568bf62",
   "metadata": {},
   "source": [
    "### Loading the file ###"
   ]
  },
  {
   "cell_type": "code",
   "execution_count": 3,
   "id": "d0ec6216-1ae0-4795-b55b-36a906fabb98",
   "metadata": {},
   "outputs": [],
   "source": [
    "pdb_name = \"1adq_short.pdb\"\n",
    "pdb_path = (input / pdb_name).as_posix() \n",
    "pdb = PDBFile(pdb_path)\n",
    "modeller = Modeller(pdb.topology, pdb.positions)\n",
    "modeller.deleteWater() #for implicit solvent\n"
   ]
  },
  {
   "cell_type": "markdown",
   "id": "339b5803-1de5-471e-bdfb-b41c92a6a2af",
   "metadata": {},
   "source": [
    "#### Setting up the force field and system ####"
   ]
  },
  {
   "cell_type": "code",
   "execution_count": 4,
   "id": "0ed34f18-16cc-4545-80a4-2c9f1a9b27a8",
   "metadata": {},
   "outputs": [],
   "source": [
    "forcefield = ForceField('amber14/protein.ff14SB.xml', 'amber14/tip3pfb.xml')\n",
    "system = forcefield.createSystem(modeller.topology, nonbondedMethod=app.NoCutoff, constraints=HBonds, implicitSolvent=GBn2)\n",
    "integrator = LangevinMiddleIntegrator(310*kelvin, 1 / picosecond, 0.002*picoseconds)"
   ]
  },
  {
   "cell_type": "markdown",
   "id": "228cc2b7-c438-4c05-936c-c4de9285c21f",
   "metadata": {},
   "source": [
    "#### Setting up simulation ####"
   ]
  },
  {
   "cell_type": "code",
   "execution_count": 5,
   "id": "f12b2863-4937-487c-9453-8fc545db30a7",
   "metadata": {},
   "outputs": [],
   "source": [
    "simulation = Simulation(pdb.topology, system, integrator)\n",
    "simulation.context.setPositions(pdb.positions)\n",
    "simulation.minimizeEnergy()"
   ]
  },
  {
   "cell_type": "markdown",
   "id": "a28394a8-dcc7-433a-91f6-51af727a3795",
   "metadata": {},
   "source": [
    "#### Adding reporters ####"
   ]
  },
  {
   "cell_type": "code",
   "execution_count": 6,
   "id": "5755fac2-eb22-4c64-a2bd-4a489742e6ac",
   "metadata": {},
   "outputs": [],
   "source": [
    "report_interval = 10000\n",
    "checkpoint_interval = report_interval * 10\n",
    "\n",
    "simulation.reporters.append(PDBReporter((output / pdb_name).as_posix(), report_interval))\n",
    "simulation.reporters.append(StateDataReporter(stdout, checkpoint_interval, potentialEnergy=False, kineticEnergy=False, totalEnergy=False, step=True,temperature=True))\n",
    "simulation.reporters.append(StateDataReporter((output / '1adq_short.pdb_log.tsv').as_posix(), report_interval, potentialEnergy=False, kineticEnergy=False, totalEnergy=False, step=True,temperature=True))\n",
    "simulation.reporters.append(HDF5Reporter((output / '1adq_short.pdb_log.h5').as_posix(), report_interval, coordinates=True, time=True, cell=True, potentialEnergy=True, kineticEnergy=True, temperature=True))\n",
    "simulation.reporters.append(CheckpointReporter((output / '1adq_short_results.chk').as_posix(), checkpoint_interval))"
   ]
  },
  {
   "cell_type": "markdown",
   "id": "2c6de38d-a75e-442b-9fb3-8214874ad380",
   "metadata": {},
   "source": [
    "## Running the simulation ##"
   ]
  },
  {
   "cell_type": "code",
   "execution_count": null,
   "id": "4b7332cb-d158-4ef8-9bec-39fad51fd0b0",
   "metadata": {},
   "outputs": [],
   "source": [
    "steps = 50000000 # to get 10 nanoseconds"
   ]
  },
  {
   "cell_type": "code",
   "execution_count": null,
   "id": "2b0eb36f-91b2-4591-9ab4-99acdf46aa41",
   "metadata": {},
   "outputs": [],
   "source": [
    "simulation.step(steps)"
   ]
  },
  {
   "cell_type": "code",
   "execution_count": null,
   "id": "6c9226fd-becc-41d0-9c2d-10832e444791",
   "metadata": {},
   "outputs": [],
   "source": [
    "simulation.saveState((output / '1adq_short_results.xml').as_posix())\n",
    "simulation.saveCheckpoint((output / '1adq_short_results.chk').as_posix())"
   ]
  }
 ],
 "metadata": {
  "kernelspec": {
   "display_name": "Python 3 (ipykernel)",
   "language": "python",
   "name": "python3"
  },
  "language_info": {
   "codemirror_mode": {
    "name": "ipython",
    "version": 3
   },
   "file_extension": ".py",
   "mimetype": "text/x-python",
   "name": "python",
   "nbconvert_exporter": "python",
   "pygments_lexer": "ipython3",
   "version": "3.9.7"
  }
 },
 "nbformat": 4,
 "nbformat_minor": 5
}