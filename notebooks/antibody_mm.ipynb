{
 "cells": [
  {
   "cell_type": "markdown",
   "id": "4dd6943c-ee34-4a37-9412-ef87913280e2",
   "metadata": {
    "tags": []
   },
   "source": [
    "Basic code for antibody-based simulations\n",
    "==========="
   ]
  },
  {
   "cell_type": "markdown",
   "id": "3266a155-7a2e-41fd-acf3-bf8951a35caf",
   "metadata": {},
   "source": [
    "## basic imports ##"
   ]
  },
  {
   "cell_type": "code",
   "execution_count": 1,
   "id": "0c6dbd5b-4806-4645-ab11-074fb39e0b46",
   "metadata": {},
   "outputs": [],
   "source": [
    "from openmm.app import *\n",
    "from openmm import *\n",
    "from openmm.unit import *\n",
    "from mdtraj.reporters import *\n",
    "from functional import seq\n",
    "\n",
    "from pathlib import Path\n",
    "import sys\n",
    "from sys import stdout\n",
    "import inspect\n",
    "from pycomfort.files import *"
   ]
  },
  {
   "cell_type": "code",
   "execution_count": 2,
   "id": "65189a75",
   "metadata": {
    "collapsed": false,
    "jupyter": {
     "outputs_hidden": false
    },
    "pycharm": {
     "name": "#%%\n"
    }
   },
   "outputs": [
    {
     "name": "stdout",
     "output_type": "stream",
     "text": [
      "extending pathes with local yspecies\n",
      "['/data/sources/antibody-mm/mm', '/data/sources/antibody-mm/notebooks', '/home/antonkulaga/micromamba/envs/antibody-mm/lib/python39.zip', '/home/antonkulaga/micromamba/envs/antibody-mm/lib/python3.9', '/home/antonkulaga/micromamba/envs/antibody-mm/lib/python3.9/lib-dynload', '', '/home/antonkulaga/micromamba/envs/antibody-mm/lib/python3.9/site-packages', '/home/antonkulaga/micromamba/envs/antibody-mm/lib/python3.9/site-packages/IPython/extensions', '/home/antonkulaga/.ipython']\n"
     ]
    }
   ],
   "source": [
    "debug_local = True#False\n",
    "local = Path(\"..\").resolve()\n",
    "code = local / \"mm\"\n",
    "data  = local / \"data\"\n",
    "input = data / \"input\"\n",
    "output = data / \"output\"\n",
    "\n",
    "if debug_local and code.exists():\n",
    "    sys.path.insert(0, code.as_posix())\n",
    "    print(\"extending pathes with local yspecies\")\n",
    "    print(sys.path)\n",
    "    %load_ext autoreload\n",
    "    %autoreload 2"
   ]
  },
  {
   "cell_type": "code",
   "execution_count": 3,
   "id": "a99d9a38-bd27-4cf9-a340-3a6ad6ae4623",
   "metadata": {},
   "outputs": [
    {
     "name": "stdout",
     "output_type": "stream",
     "text": [
      "/data/sources/antibody-mm/data/input/RA\n",
      "/data/sources/antibody-mm/data/input/1ADQ\n"
     ]
    }
   ],
   "source": [
    "children(input).for_each(print)"
   ]
  },
  {
   "cell_type": "markdown",
   "id": "c51773f1-19ff-437e-990a-b8ef5e75afe9",
   "metadata": {},
   "source": [
    "## Setting simulation parameters ##"
   ]
  },
  {
   "cell_type": "code",
   "execution_count": 4,
   "id": "c0f65f60-1fe4-41ca-8861-5991c9c3414c",
   "metadata": {},
   "outputs": [],
   "source": [
    "def make_simulation(path: Path, delete_water: bool = True, add_hydrogens: bool = True):\n",
    "    pdb = PDBFile(path.as_posix())\n",
    "    modeller = Modeller(pdb.topology, pdb.positions)\n",
    "    forcefield = ForceField('amber14/protein.ff14SB.xml',  'implicit/gbn2.xml')\n",
    "    temperature = 310 * kelvin\n",
    "    integrator = LangevinMiddleIntegrator(temperature, 1 / picosecond, 0.002*picoseconds)\n",
    "    if delete_water:\n",
    "        modeller.deleteWater()\n",
    "    if add_hydrogens:\n",
    "        modeller.addHydrogens(forcefield)\n",
    "        #forcefield = ForceField('amber14-all.xml', 'amber14/tip3pfb.xml')\n",
    "    system = forcefield.createSystem(modeller.topology, \n",
    "        nonbondedMethod=CutoffNonPeriodic,\n",
    "        nonbondedCutoff=1.2*nanometer,\n",
    "        switchDistance=1.0*nanometer, \n",
    "        constraints=HBonds\n",
    "        #implicitSolvent=app.GBn2, implicitSolventSaltConc=0.15*moles/liter\n",
    "        )\n",
    "    simulation = Simulation(pdb.topology, system, integrator)\n",
    "    simulation.context.setPositions(modeller.positions)\n",
    "    simulation.minimizeEnergy()\n",
    "    return simulation"
   ]
  },
  {
   "cell_type": "code",
   "execution_count": 5,
   "id": "455ea83f-a130-4b26-80e3-b52e86f51edd",
   "metadata": {},
   "outputs": [],
   "source": [
    "def with_reporters(simulation: Simulation, pdb: Path, where: Path = output,\n",
    "                 report_interval: int = 1000, checkpoint_interval: int = 10000, \n",
    "                 #report_pdb: bool = True #pdb reporter can be heavy\n",
    "               ): \n",
    "    #simulation.reporters.append(PDBReporter((where / f'{pdb.stem}.dcd').as_posix(), report_interval))\n",
    "    if not where.exists():\n",
    "        where.mkdir()    \n",
    "    simulation.reporters.append(DCDReporter((where / f'{pdb.stem}.dcd').as_posix(), report_interval))\n",
    "    simulation.reporters.append(StateDataReporter((where / f'{pdb.stem}_log.tsv').as_posix(), report_interval, potentialEnergy=True, kineticEnergy=True, totalEnergy=True, step=True,temperature=True, separator='\\t'))\n",
    "    simulation.reporters.append(HDF5Reporter((where / f'{pdb.stem}_log.h5').as_posix(), report_interval, coordinates=True, time=True, cell=True, potentialEnergy=True, kineticEnergy=True, temperature=True))\n",
    "    simulation.reporters.append(CheckpointReporter((where / f'{pdb.stem}_results.chk').as_posix(), checkpoint_interval))\n",
    "    return simulation"
   ]
  },
  {
   "cell_type": "code",
   "execution_count": 6,
   "id": "af1d91f5-5727-4b7e-946f-0f3fd6d63e03",
   "metadata": {},
   "outputs": [],
   "source": [
    "def save_results(sim: Simulation, pdb: Path, where: Path = output) -> Simulation:\n",
    "    if not where.exists():\n",
    "        where.mkdir()\n",
    "    finalpositions = sim.context.getState(getPositions=True).getPositions()\n",
    "    PDBFile.writeFile(sim.topology, finalpositions, open((where / f'{pdb.stem}.pdb').as_posix(), 'w'))\n",
    "    sim.saveState((where/ f'{pdb.stem}_results.xml').as_posix())\n",
    "    sim.saveCheckpoint((where / f'{pdb.stem}_results.chk').as_posix())\n",
    "    return sim"
   ]
  },
  {
   "cell_type": "markdown",
   "id": "687703f6-7d0f-4068-bca5-f8417568bf62",
   "metadata": {
    "tags": []
   },
   "source": [
    "### Loading folders and files ###"
   ]
  },
  {
   "cell_type": "code",
   "execution_count": 7,
   "id": "d0ec6216-1ae0-4795-b55b-36a906fabb98",
   "metadata": {},
   "outputs": [
    {
     "name": "stdout",
     "output_type": "stream",
     "text": [
      "best\n",
      "\tS5205Nr1-P2_PBMC_L_top_30_heavy_chains\n",
      "\t\t1_27244_H_297_energy_-260.30115.pdb\n",
      "\t\t1_27244_H_23_energy_-251.4212.pdb\n",
      "\t\t1_27244_H_30_energy_-263.64684.pdb\n",
      "\tS5205Nr1-P2_IgG1Fc_H_top_30_heavy_chains\n",
      "\t\t2_27457_H_253_energy_-246.08788.pdb\n",
      "\t\tFIXED_1_35744_H_1_energy_-254.21349.pdb\n",
      "\t\tFIXED_1_35744_H_64_energy_-263.5477.pdb\n",
      "\t\t3_17806_H_5_energy_-238.0523.pdb\n",
      "\t\t3_17806_H_24_energy_-221.3707.pdb\n",
      "\t\t2_27457_H_244_energy_-284.44533.pdb\n",
      "\t\t1_35744_H_64_energy_-263.5477.pdb\n",
      "\t\tFIXED_1_35744_H_112_energy_-265.2682.pdb\n",
      "\t\t3_17806_H_35_energy_-224.0373.pdb\n",
      "\t\t1_35744_H_1_energy_-254.21349.pdb\n",
      "\t\t1_35744_H_112_energy_-265.2682.pdb\n",
      "\t\t2_27457_H_257_energy_-248.7721.pdb\n"
     ]
    }
   ],
   "source": [
    "docking_results = Path(\"/data/samples/docking/results/\")\n",
    "best_docking_results = docking_results / \"best\"\n",
    "tprint(best_docking_results)\n"
   ]
  },
  {
   "cell_type": "code",
   "execution_count": 8,
   "id": "dfc5d7b0-b609-4c79-8efb-2b8ff6247022",
   "metadata": {},
   "outputs": [
    {
     "name": "stdout",
     "output_type": "stream",
     "text": [
      "S5205Nr1-P2_IgG1Fc_H_top_30_heavy_chains\n",
      "\t2_27457_H_253_energy_-246.08788.pdb\n",
      "\tFIXED_1_35744_H_1_energy_-254.21349.pdb\n",
      "\tFIXED_1_35744_H_64_energy_-263.5477.pdb\n",
      "\t3_17806_H_5_energy_-238.0523.pdb\n",
      "\t3_17806_H_24_energy_-221.3707.pdb\n",
      "\t2_27457_H_244_energy_-284.44533.pdb\n",
      "\t1_35744_H_64_energy_-263.5477.pdb\n",
      "\tFIXED_1_35744_H_112_energy_-265.2682.pdb\n",
      "\t3_17806_H_35_energy_-224.0373.pdb\n",
      "\t1_35744_H_1_energy_-254.21349.pdb\n",
      "\t1_35744_H_112_energy_-265.2682.pdb\n",
      "\t2_27457_H_257_energy_-248.7721.pdb\n"
     ]
    }
   ],
   "source": [
    "p2_auto = best_docking_results / \"S5205Nr1-P2_IgG1Fc_H_top_30_heavy_chains\"\n",
    "p2_pbmc = best_docking_results / \"S5205Nr1-P2_PBMC_L_top_30_heavy_chains\"\n",
    "tprint(p2_auto)"
   ]
  },
  {
   "cell_type": "markdown",
   "id": "2cf41795-070b-4a71-9eec-ddf390a7ae9a",
   "metadata": {},
   "source": [
    "Selecting the file\n",
    "==================="
   ]
  },
  {
   "cell_type": "code",
   "execution_count": 9,
   "id": "6f13d53e-ea9a-489a-afa0-326c193ede13",
   "metadata": {},
   "outputs": [],
   "source": [
    "selected_group = p2_auto\n",
    "selected_pdb = \"FIXED_1_35744_H_112_energy_-265.2682.pdb\"\n"
   ]
  },
  {
   "cell_type": "code",
   "execution_count": 10,
   "id": "6f1699bf-6fe7-4f18-bd44-f5aeb676cfd4",
   "metadata": {},
   "outputs": [],
   "source": [
    "pdb = p2_auto / selected_pdb\n",
    "where = output / selected_group.name\n",
    "where.mkdir(parents=True, exist_ok=True)"
   ]
  },
  {
   "cell_type": "markdown",
   "id": "b392f756-addb-4f68-b97b-69ddcdd3c586",
   "metadata": {},
   "source": [
    "### Making simulation"
   ]
  },
  {
   "cell_type": "code",
   "execution_count": 11,
   "id": "29584444-45f0-4d81-8bb1-bebabef5e68b",
   "metadata": {},
   "outputs": [
    {
     "data": {
      "text/plain": [
       "<openmm.app.simulation.Simulation at 0x7fb20597c1c0>"
      ]
     },
     "execution_count": 11,
     "metadata": {},
     "output_type": "execute_result"
    }
   ],
   "source": [
    "sim = with_reporters(make_simulation(pdb), pdb, where )\n",
    "sim"
   ]
  },
  {
   "cell_type": "markdown",
   "id": "2c6de38d-a75e-442b-9fb3-8214874ad380",
   "metadata": {
    "tags": []
   },
   "source": [
    "## Running the simulation ##"
   ]
  },
  {
   "cell_type": "code",
   "execution_count": 12,
   "id": "4b7332cb-d158-4ef8-9bec-39fad51fd0b0",
   "metadata": {},
   "outputs": [],
   "source": [
    "steps = 2 * 50000 #50000000 # to get 10 nanoseconds"
   ]
  },
  {
   "cell_type": "code",
   "execution_count": 13,
   "id": "2b0eb36f-91b2-4591-9ab4-99acdf46aa41",
   "metadata": {},
   "outputs": [
    {
     "name": "stderr",
     "output_type": "stream",
     "text": [
      "/home/antonkulaga/micromamba/envs/antibody-mm/lib/python3.9/site-packages/mdtraj/utils/validation.py:115: TypeCastPerformanceWarning: Casting xyz dtype=float64 to <class 'numpy.float32'> \n",
      "  warnings.warn(\"Casting %s dtype=%s to %s \" % (name, val.dtype, dtype),\n"
     ]
    }
   ],
   "source": [
    "sim.step(steps)"
   ]
  },
  {
   "cell_type": "code",
   "execution_count": 14,
   "id": "6c9226fd-becc-41d0-9c2d-10832e444791",
   "metadata": {},
   "outputs": [
    {
     "data": {
      "text/plain": [
       "<openmm.app.simulation.Simulation at 0x7fb20597c1c0>"
      ]
     },
     "execution_count": 14,
     "metadata": {},
     "output_type": "execute_result"
    }
   ],
   "source": [
    "save_results(sim, where)"
   ]
  },
  {
   "cell_type": "markdown",
   "id": "12cff71f-0a43-4aaf-bd9f-9e2ad104e603",
   "metadata": {},
   "source": [
    "## Analyzing results"
   ]
  },
  {
   "cell_type": "code",
   "execution_count": 16,
   "id": "beb1feb4-7162-43f1-a008-dcdad1b6ba42",
   "metadata": {},
   "outputs": [
    {
     "name": "stdout",
     "output_type": "stream",
     "text": [
      "/data/sources/antibody-mm/data/output/S5205Nr1-P2_IgG1Fc_H_top_30_heavy_chains\n",
      "S5205Nr1-P2_IgG1Fc_H_top_30_heavy_chains\n",
      "\tFIXED_1_35744_H_112_energy_-265.2682_log.tsv\n",
      "\tFIXED_1_35744_H_112_energy_-265.2682_log.h5\n",
      "\tFIXED_1_35744_H_112_energy_-265.2682.dcd\n",
      "\tFIXED_1_35744_H_112_energy_-265.2682_results.chk\n"
     ]
    }
   ],
   "source": [
    "print(where.as_posix())\n",
    "tprint(where)"
   ]
  }
 ],
 "metadata": {
  "kernelspec": {
   "display_name": "Python 3 (ipykernel)",
   "language": "python",
   "name": "python3"
  },
  "language_info": {
   "codemirror_mode": {
    "name": "ipython",
    "version": 3
   },
   "file_extension": ".py",
   "mimetype": "text/x-python",
   "name": "python",
   "nbconvert_exporter": "python",
   "pygments_lexer": "ipython3",
   "version": "3.9.7"
  }
 },
 "nbformat": 4,
 "nbformat_minor": 5
}
